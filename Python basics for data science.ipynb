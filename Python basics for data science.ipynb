{
 "cells": [
  {
   "cell_type": "code",
   "execution_count": 5,
   "id": "bde3fc67",
   "metadata": {},
   "outputs": [
    {
     "name": "stdout",
     "output_type": "stream",
     "text": [
      "10\n",
      "30\n"
     ]
    }
   ],
   "source": [
    "# a and b are variables. 10 and 20 are literals.\n",
    "a=10\n",
    "print(a)\n",
    "b=20\n",
    "print(a+b)"
   ]
  },
  {
   "cell_type": "code",
   "execution_count": 10,
   "id": "7cc7c7a2",
   "metadata": {},
   "outputs": [
    {
     "name": "stdout",
     "output_type": "stream",
     "text": [
      "Enter a number:\n",
      "12\n",
      "Enter your name:\n",
      "harshita\n",
      "Hey! harshita How you doing?\n"
     ]
    }
   ],
   "source": [
    "print('Enter a number:')\n",
    "n=int(input())\n",
    "print('Enter your name:')\n",
    "name=str(input())\n",
    "print('Hey!', name, 'How you doing?')"
   ]
  },
  {
   "cell_type": "code",
   "execution_count": 11,
   "id": "ad317e66",
   "metadata": {},
   "outputs": [
    {
     "name": "stdout",
     "output_type": "stream",
     "text": [
      "Enter the radius of the circle: 7\n",
      "Area of circle with radius 7 is 153.86\n"
     ]
    }
   ],
   "source": [
    "r=int(input('Enter the radius of the circle: '))\n",
    "area=3.14*r*r\n",
    "print('Area of circle with radius', r, 'is', area)"
   ]
  },
  {
   "cell_type": "code",
   "execution_count": 18,
   "id": "1504f157",
   "metadata": {},
   "outputs": [
    {
     "name": "stdout",
     "output_type": "stream",
     "text": [
      "<class 'int'>\n",
      "<class 'float'>\n",
      "<class 'str'>\n",
      "<class 'bool'>\n"
     ]
    }
   ],
   "source": [
    "print(type(3))\n",
    "print(type(2.5))\n",
    "print(type('Harshita'))\n",
    "print(type(False))"
   ]
  },
  {
   "cell_type": "code",
   "execution_count": 15,
   "id": "9fa0c0cf",
   "metadata": {},
   "outputs": [
    {
     "name": "stdout",
     "output_type": "stream",
     "text": [
      "<class 'tuple'>\n",
      "<class 'list'>\n"
     ]
    }
   ],
   "source": [
    "print(type((10, 30, 2.5)))\n",
    "print(type([10, 30, 2.5]))"
   ]
  },
  {
   "cell_type": "code",
   "execution_count": 17,
   "id": "16d4569c",
   "metadata": {},
   "outputs": [
    {
     "name": "stdout",
     "output_type": "stream",
     "text": [
      "2.5\n",
      "10\n",
      "<class 'int'>\n"
     ]
    }
   ],
   "source": [
    "l=[10, 30, 2.5]\n",
    "print(l[-1])\n",
    "print(l[0])\n",
    "print(type(l[1]))"
   ]
  },
  {
   "cell_type": "code",
   "execution_count": 20,
   "id": "5dbc93e2",
   "metadata": {},
   "outputs": [
    {
     "name": "stdout",
     "output_type": "stream",
     "text": [
      "<class 'int'>\n",
      "<class 'int'>\n",
      "<class 'float'>\n",
      "<class 'float'>\n",
      "<class 'str'>\n",
      "<class 'str'>\n"
     ]
    }
   ],
   "source": [
    "a= int(5.7)\n",
    "b=int('23')\n",
    "c=float(9)\n",
    "d=float('5.3')\n",
    "e=str(9)\n",
    "f=str(5.3)\n",
    "\n",
    "print(type(a))\n",
    "print(type(b))\n",
    "print(type(c))\n",
    "print(type(d))\n",
    "print(type(e))\n",
    "print(type(f))"
   ]
  },
  {
   "cell_type": "code",
   "execution_count": 23,
   "id": "e4323663",
   "metadata": {},
   "outputs": [
    {
     "name": "stdout",
     "output_type": "stream",
     "text": [
      "False <class 'bool'>\n",
      "True <class 'bool'>\n",
      "False <class 'bool'>\n",
      "True <class 'bool'>\n"
     ]
    }
   ],
   "source": [
    "# except 0 and empty string all boolean values are true\n",
    "a= bool(0)\n",
    "b= bool(11)\n",
    "c= bool('')\n",
    "d= bool('Harshita')\n",
    "print(a, type(a))\n",
    "print(b, type(b))\n",
    "print(c, type(c))\n",
    "print(d, type(d))"
   ]
  },
  {
   "cell_type": "code",
   "execution_count": 31,
   "id": "75017e75",
   "metadata": {},
   "outputs": [
    {
     "name": "stdout",
     "output_type": "stream",
     "text": [
      "55\n",
      "-9\n",
      "736\n",
      "0\n",
      "0.71875\n",
      "23\n"
     ]
    }
   ],
   "source": [
    "a=23\n",
    "b=32\n",
    "x=a+b\n",
    "y=a-b\n",
    "z=a*b\n",
    "w=a//b # // output is an integer\n",
    "u=a/b # / output is float\n",
    "v=a%b # % output is remainder\n",
    "print(x)\n",
    "print(y)\n",
    "print(z)\n",
    "print(w)\n",
    "print(u)\n",
    "print(v)"
   ]
  },
  {
   "cell_type": "code",
   "execution_count": 26,
   "id": "e2c03672",
   "metadata": {},
   "outputs": [
    {
     "name": "stdout",
     "output_type": "stream",
     "text": [
      "Harshita Aswani\n"
     ]
    }
   ],
   "source": [
    "# concatenation\n",
    "a= 'Harshita '\n",
    "b= 'Aswani'\n",
    "n=a+b\n",
    "print(n)"
   ]
  },
  {
   "cell_type": "code",
   "execution_count": 28,
   "id": "974504ae",
   "metadata": {},
   "outputs": [
    {
     "name": "stdout",
     "output_type": "stream",
     "text": [
      "[1, 2, 3, 4, 5, 6, 3, 4]\n"
     ]
    }
   ],
   "source": [
    "# union\n",
    "a = [1, 2, 3, 4]\n",
    "b = [5, 6, 3, 4]\n",
    "n = a+b\n",
    "print(n)"
   ]
  },
  {
   "cell_type": "code",
   "execution_count": 29,
   "id": "8ee7d839",
   "metadata": {},
   "outputs": [
    {
     "name": "stdout",
     "output_type": "stream",
     "text": [
      "36\n"
     ]
    }
   ],
   "source": [
    "# operation always works according to operator precedence also known as BODMAS\n",
    "n=10+13*2\n",
    "print(n)"
   ]
  },
  {
   "cell_type": "code",
   "execution_count": 30,
   "id": "f9604f9d",
   "metadata": {},
   "outputs": [
    {
     "data": {
      "text/plain": [
       "46"
      ]
     },
     "execution_count": 30,
     "metadata": {},
     "output_type": "execute_result"
    }
   ],
   "source": [
    "n= (10+13)*2\n",
    "n"
   ]
  },
  {
   "cell_type": "markdown",
   "id": "88be3c60",
   "metadata": {},
   "source": [
    "Operators are of 3 types: Arithmetic, Relational and Logical.\n",
    "\n",
    "Arithmetic (+,-, * ,/,//,%, ** )\n",
    "\n",
    "Relational (<, >, <=, >=, ==, !=)\n",
    "\n",
    "Logical (and, or, not)"
   ]
  },
  {
   "cell_type": "code",
   "execution_count": 38,
   "id": "ceeb2869",
   "metadata": {},
   "outputs": [
    {
     "name": "stdout",
     "output_type": "stream",
     "text": [
      "addition 5\n",
      "substraction 8\n",
      "multiplication 20\n",
      "division 2.3333333333333335\n",
      "floor division 2\n",
      "modulus 1\n",
      "exponential 36\n",
      "True\n",
      "True\n",
      "True\n",
      "True\n",
      "False\n",
      "True\n",
      "0\n",
      "0\n",
      "1\n",
      "0\n",
      "0\n",
      "1\n",
      "1\n",
      "1\n",
      "False\n",
      "True\n"
     ]
    }
   ],
   "source": [
    "print('addition', 2+3)\n",
    "print('substraction', 9-1)\n",
    "print('multiplication', 5*4)\n",
    "print('division', 7/3)\n",
    "print('floor division', 7//3)\n",
    "print('modulus', 7%3)\n",
    "print('exponential', 6**2)\n",
    "\n",
    "print(5<11)\n",
    "print(23>12)\n",
    "print(45<=45)\n",
    "print(56>=34)\n",
    "print(0==1)\n",
    "print(1!=0)\n",
    "\n",
    "print(0 and 0)\n",
    "print(1 and 0)\n",
    "print(1 and 1)\n",
    "print(0 and 1)\n",
    "print(0 or 0)\n",
    "print(0 or 1)\n",
    "print(1 or 1)\n",
    "print(1 or 0)\n",
    "print(not True)\n",
    "print(not False)"
   ]
  },
  {
   "cell_type": "code",
   "execution_count": 4,
   "id": "380e79b6",
   "metadata": {},
   "outputs": [
    {
     "name": "stdout",
     "output_type": "stream",
     "text": [
      "rsh\n",
      "i\n"
     ]
    }
   ],
   "source": [
    "# string slicing\n",
    "h='harshita'\n",
    "d='divya'\n",
    "print(h[2:5])\n",
    "print(d[1]) # indexing"
   ]
  },
  {
   "cell_type": "code",
   "execution_count": 5,
   "id": "17886593",
   "metadata": {},
   "outputs": [
    {
     "name": "stdout",
     "output_type": "stream",
     "text": [
      "harshidinky\n"
     ]
    }
   ],
   "source": [
    "h='harshi'\n",
    "d='dinky'\n",
    "print(h+d)"
   ]
  },
  {
   "cell_type": "code",
   "execution_count": 10,
   "id": "3333e8de",
   "metadata": {},
   "outputs": [
    {
     "name": "stdout",
     "output_type": "stream",
     "text": [
      "82\n",
      "10\n",
      "82\n"
     ]
    }
   ],
   "source": [
    "s='98381478294'\n",
    "print(s[1]+s[-3])\n",
    "print(int(s[1])+int(s[-3]))\n",
    "print(int(s[1]+s[-3]))"
   ]
  },
  {
   "cell_type": "code",
   "execution_count": 12,
   "id": "ba7d6334",
   "metadata": {},
   "outputs": [
    {
     "name": "stdout",
     "output_type": "stream",
     "text": [
      "harshiharshiharshiharshi\n",
      "ssssssss\n"
     ]
    }
   ],
   "source": [
    "# replication\n",
    "s= 'harshi'\n",
    "print(s*4)\n",
    "print(s[3]*8)"
   ]
  },
  {
   "cell_type": "code",
   "execution_count": 16,
   "id": "db159441",
   "metadata": {},
   "outputs": [
    {
     "name": "stdout",
     "output_type": "stream",
     "text": [
      "5\n",
      "True\n",
      "False\n"
     ]
    }
   ],
   "source": [
    "x='India'\n",
    "print(len(x))\n",
    "print(x=='India')\n",
    "print(x=='india')"
   ]
  },
  {
   "cell_type": "code",
   "execution_count": 15,
   "id": "214a32da",
   "metadata": {},
   "outputs": [
    {
     "name": "stdout",
     "output_type": "stream",
     "text": [
      "False\n",
      "True\n",
      "True\n",
      "False\n"
     ]
    }
   ],
   "source": [
    "# letter by letter comparison. a in apple comes before o in one and f in four comes before t in ten\n",
    "print('apple'>'one')\n",
    "print('four'<'ten')\n",
    "# when first letter is same. second letter is compared.\n",
    "print('ab'<'az')\n",
    "print('abcdef'<'abcde')"
   ]
  },
  {
   "cell_type": "code",
   "execution_count": 18,
   "id": "d7b56fd5",
   "metadata": {},
   "outputs": [
    {
     "name": "stdout",
     "output_type": "stream",
     "text": [
      "enter your monthly income:\n",
      "678567\n",
      "enter your monthly expenses:\n",
      "7889\n",
      "You saved: 670678\n"
     ]
    }
   ],
   "source": [
    "#keywords cannot be used as variable names\n",
    "# variables are case sensitive\n",
    "print('enter your monthly income:')\n",
    "n=int(input())\n",
    "print('enter your monthly expenses:')\n",
    "e=int(input())\n",
    "print('You saved:', n-e)"
   ]
  },
  {
   "cell_type": "code",
   "execution_count": 20,
   "id": "a1a6e3c7",
   "metadata": {},
   "outputs": [
    {
     "name": "stdout",
     "output_type": "stream",
     "text": [
      "2\n"
     ]
    }
   ],
   "source": [
    "x,y=1,2\n",
    "print(y)"
   ]
  },
  {
   "cell_type": "code",
   "execution_count": 21,
   "id": "33aaeb06",
   "metadata": {},
   "outputs": [
    {
     "name": "stdout",
     "output_type": "stream",
     "text": [
      "34 34 34\n"
     ]
    }
   ],
   "source": [
    "x=y=z=34\n",
    "print(x, y, z)"
   ]
  },
  {
   "cell_type": "code",
   "execution_count": 22,
   "id": "fc4c9a91",
   "metadata": {},
   "outputs": [
    {
     "name": "stdout",
     "output_type": "stream",
     "text": [
      "1 2\n",
      "2 1\n"
     ]
    }
   ],
   "source": [
    "x,y=1,2\n",
    "print(x,y)\n",
    "x,y=y,x\n",
    "print(x,y)"
   ]
  },
  {
   "cell_type": "code",
   "execution_count": 23,
   "id": "1c4cb663",
   "metadata": {},
   "outputs": [
    {
     "name": "stdout",
     "output_type": "stream",
     "text": [
      "2\n"
     ]
    }
   ],
   "source": [
    "# shorthand operators: a=a+1 is same as a+=1\n",
    "count=0\n",
    "count+=1\n",
    "count=count+1\n",
    "print(count)"
   ]
  },
  {
   "cell_type": "code",
   "execution_count": 25,
   "id": "24ba5a36",
   "metadata": {},
   "outputs": [
    {
     "name": "stdout",
     "output_type": "stream",
     "text": [
      "8\n"
     ]
    }
   ],
   "source": [
    "count=10\n",
    "count-=1\n",
    "count=count-1\n",
    "print(count)"
   ]
  },
  {
   "cell_type": "code",
   "execution_count": 27,
   "id": "1d3fb5bb",
   "metadata": {},
   "outputs": [
    {
     "name": "stdout",
     "output_type": "stream",
     "text": [
      "40\n"
     ]
    }
   ],
   "source": [
    "count=10\n",
    "count*=2\n",
    "count=count*2\n",
    "print(count)"
   ]
  },
  {
   "cell_type": "code",
   "execution_count": 28,
   "id": "7942aced",
   "metadata": {},
   "outputs": [
    {
     "name": "stdout",
     "output_type": "stream",
     "text": [
      "2.5\n"
     ]
    }
   ],
   "source": [
    "count=10\n",
    "count/=2\n",
    "count=count/2\n",
    "print(count)"
   ]
  },
  {
   "cell_type": "code",
   "execution_count": 29,
   "id": "6ac1cfb6",
   "metadata": {},
   "outputs": [
    {
     "name": "stdout",
     "output_type": "stream",
     "text": [
      "2\n"
     ]
    }
   ],
   "source": [
    "count=10\n",
    "count//=2\n",
    "count=count//2\n",
    "print(count)"
   ]
  },
  {
   "cell_type": "code",
   "execution_count": 31,
   "id": "0c2a103c",
   "metadata": {},
   "outputs": [
    {
     "name": "stdout",
     "output_type": "stream",
     "text": [
      "True\n",
      "False\n"
     ]
    }
   ],
   "source": [
    "# in operator checks if a value exist in something else or not\n",
    "print('name' in 'My name is Harshita')\n",
    "print('name' in 'Myself Harshita')"
   ]
  },
  {
   "cell_type": "code",
   "execution_count": 32,
   "id": "fbc506f4",
   "metadata": {},
   "outputs": [
    {
     "name": "stdout",
     "output_type": "stream",
     "text": [
      "False\n",
      "True\n",
      "True\n",
      "True\n"
     ]
    }
   ],
   "source": [
    "# multiple relational operators used in single statement are *chaining operator*\n",
    "x=5\n",
    "print(10<x<20)\n",
    "print(x<10<x*10<100)\n",
    "print(10>x<=9)\n",
    "print(5==x>4)"
   ]
  },
  {
   "cell_type": "code",
   "execution_count": 1,
   "id": "c54005ad",
   "metadata": {},
   "outputs": [
    {
     "name": "stdout",
     "output_type": "stream",
     "text": [
      "It's a beautiful day\n"
     ]
    }
   ],
   "source": [
    "# escape character\n",
    "print('It\\'s a beautiful day')"
   ]
  },
  {
   "cell_type": "code",
   "execution_count": 2,
   "id": "8321477f",
   "metadata": {},
   "outputs": [
    {
     "name": "stdout",
     "output_type": "stream",
     "text": [
      "My self:\tHarshita\n"
     ]
    }
   ],
   "source": [
    "# escape character: tab\n",
    "print('My self:\\tHarshita')"
   ]
  },
  {
   "cell_type": "code",
   "execution_count": 3,
   "id": "cc9ab7b5",
   "metadata": {},
   "outputs": [
    {
     "name": "stdout",
     "output_type": "stream",
     "text": [
      "Myself Harshita.\n",
      "I am from Agra\n"
     ]
    }
   ],
   "source": [
    "# escape character: new line\n",
    "print('Myself Harshita.\\nI am from Agra')"
   ]
  },
  {
   "cell_type": "code",
   "execution_count": 4,
   "id": "12ea1199",
   "metadata": {},
   "outputs": [
    {
     "name": "stdout",
     "output_type": "stream",
     "text": [
      "single double I am\n",
      "Harshita\n"
     ]
    }
   ],
   "source": [
    "# 3 types of quotes: single, double and triple(used for typing in more than one line)\n",
    "x='single'\n",
    "y=\"double\"\n",
    "z=\"\"\"I am\n",
    "Harshita\"\"\"\n",
    "print(x,y,z)"
   ]
  },
  {
   "cell_type": "markdown",
   "id": "cd9d748d",
   "metadata": {},
   "source": [
    "Methods: lower(), upper(), capitalize(), title(), swapcase(), islower(), isupper(), istitle(), isalpha(), isdigit(), isalnum(), strip(), lstrip(), rstrip(), endswith(), startswith(), count(), index(), replace()"
   ]
  },
  {
   "cell_type": "code",
   "execution_count": 16,
   "id": "ad1bbfc4",
   "metadata": {},
   "outputs": [
    {
     "name": "stdout",
     "output_type": "stream",
     "text": [
      "python string methods\n",
      "PYTHON STRING METHODS\n",
      "Python string methods\n",
      "Python String Methods\n",
      "PYThOn StRiNG MeTHoDs\n",
      "False\n",
      "False\n",
      "False\n",
      "False\n",
      "False\n"
     ]
    }
   ],
   "source": [
    "x=\"pytHoN sTrIng mEthOdS\"\n",
    "print(x.lower())\n",
    "print(x.upper())\n",
    "print(x.capitalize())\n",
    "print(x.title())\n",
    "print(x.swapcase())\n",
    "print(x.isupper())\n",
    "print(x.islower())\n",
    "print(x.istitle())\n",
    "print(x.isalpha())\n",
    "print(x.isalnum())"
   ]
  },
  {
   "cell_type": "code",
   "execution_count": 11,
   "id": "7dfee687",
   "metadata": {},
   "outputs": [
    {
     "name": "stdout",
     "output_type": "stream",
     "text": [
      "True\n"
     ]
    }
   ],
   "source": [
    "x='123'\n",
    "print(x.isdigit())"
   ]
  },
  {
   "cell_type": "code",
   "execution_count": 13,
   "id": "b5dddcee",
   "metadata": {},
   "outputs": [
    {
     "name": "stdout",
     "output_type": "stream",
     "text": [
      "True\n"
     ]
    }
   ],
   "source": [
    "x='abc123'\n",
    "print(x.isalnum())"
   ]
  },
  {
   "cell_type": "code",
   "execution_count": 17,
   "id": "2e1e800f",
   "metadata": {},
   "outputs": [
    {
     "name": "stdout",
     "output_type": "stream",
     "text": [
      "True\n"
     ]
    }
   ],
   "source": [
    "x='harshi'\n",
    "print(x.isalpha())"
   ]
  },
  {
   "cell_type": "code",
   "execution_count": 19,
   "id": "73d33b81",
   "metadata": {},
   "outputs": [
    {
     "name": "stdout",
     "output_type": "stream",
     "text": [
      "harshi\n",
      "harshi---\n",
      "---harshi\n"
     ]
    }
   ],
   "source": [
    "x='---harshi---'\n",
    "print(x.strip('-'))\n",
    "print(x.lstrip('-'))\n",
    "print(x.rstrip('-'))"
   ]
  },
  {
   "cell_type": "code",
   "execution_count": 20,
   "id": "682685ce",
   "metadata": {},
   "outputs": [
    {
     "name": "stdout",
     "output_type": "stream",
     "text": [
      "True\n",
      "True\n"
     ]
    }
   ],
   "source": [
    "x='Harshi'\n",
    "print(x.startswith('H'))\n",
    "print(x.endswith('i'))"
   ]
  },
  {
   "cell_type": "code",
   "execution_count": 21,
   "id": "5b8be29b",
   "metadata": {},
   "outputs": [
    {
     "name": "stdout",
     "output_type": "stream",
     "text": [
      "2\n",
      "3\n",
      "HarsHi\n"
     ]
    }
   ],
   "source": [
    "x='harshi'\n",
    "print(x.count('h'))\n",
    "print(x.index('s'))\n",
    "print(x.replace('h', 'H'))"
   ]
  },
  {
   "cell_type": "code",
   "execution_count": 23,
   "id": "f74a49a9",
   "metadata": {},
   "outputs": [
    {
     "name": "stdout",
     "output_type": "stream",
     "text": [
      "e\n",
      "f\n",
      "g\n",
      "h\n",
      "i\n",
      "j\n"
     ]
    }
   ],
   "source": [
    "x='abcdefghijklmnopqrstuvwxyz'\n",
    "i=4\n",
    "print(x[i])\n",
    "print(x[i+1])\n",
    "print(x[i+2])\n",
    "print(x[i+3])\n",
    "print(x[i+4])\n",
    "print(x[i+5])"
   ]
  },
  {
   "cell_type": "code",
   "execution_count": 24,
   "id": "45fd81f7",
   "metadata": {},
   "outputs": [
    {
     "name": "stdout",
     "output_type": "stream",
     "text": [
      "y\n",
      "z\n",
      "a\n",
      "b\n",
      "c\n",
      "d\n"
     ]
    }
   ],
   "source": [
    "x='abcdefghijklmnopqrstuvwxyz'\n",
    "i=24\n",
    "print(x[i%26])\n",
    "print(x[(i+1)%26])\n",
    "print(x[(i+2)%26])\n",
    "print(x[(i+3)%26])\n",
    "print(x[(i+4)%26])\n",
    "print(x[(i+5)%26])"
   ]
  },
  {
   "cell_type": "code",
   "execution_count": 32,
   "id": "747c5e74",
   "metadata": {},
   "outputs": [
    {
     "name": "stdout",
     "output_type": "stream",
     "text": [
      "qjabqr\n"
     ]
    }
   ],
   "source": [
    "# Caeser Cipher in Cryptography: writing code for output of k-times letter shifting of the string\n",
    "x='abcdefghijklmnopqrstuvwxyz'\n",
    "s='harshi'\n",
    "t=''\n",
    "i=0\n",
    "k=9\n",
    "t=t+x[((x.index(s[i]))+k)%26]\n",
    "t=t+x[((x.index(s[i+1]))+k)%26]\n",
    "t=t+x[((x.index(s[i+2]))+k)%26]\n",
    "t=t+x[((x.index(s[i+3]))+k)%26]\n",
    "t=t+x[((x.index(s[i+4]))+k)%26]\n",
    "t=t+x[((x.index(s[i+5]))+k)%26]\n",
    "print(t)"
   ]
  },
  {
   "cell_type": "code",
   "execution_count": 37,
   "id": "0d581ad5",
   "metadata": {},
   "outputs": [
    {
     "name": "stdout",
     "output_type": "stream",
     "text": [
      "Enter a number:-78\n",
      "The number is even\n"
     ]
    }
   ],
   "source": [
    "# find whether the given number is even or odd\n",
    "num=int(input('Enter a number:'))\n",
    "if (num%2==0):\n",
    "    print('The number is even')\n",
    "elif (num%2!=0):\n",
    "    print('The number is odd')"
   ]
  },
  {
   "cell_type": "code",
   "execution_count": 40,
   "id": "28b17ffb",
   "metadata": {},
   "outputs": [
    {
     "name": "stdout",
     "output_type": "stream",
     "text": [
      "Enter a number:120\n",
      "0\n"
     ]
    }
   ],
   "source": [
    "# find whether the given number is divisible by 0 or 5 or any other number\n",
    "num=int(input('Enter a number:'))\n",
    "if (num%5==0):\n",
    "    if (num%10==0):\n",
    "        print(0)\n",
    "    else:\n",
    "        print(5)\n",
    "else:\n",
    "    print('Other')"
   ]
  },
  {
   "cell_type": "code",
   "execution_count": 57,
   "id": "dd7719c1",
   "metadata": {},
   "outputs": [
    {
     "name": "stdout",
     "output_type": "stream",
     "text": [
      "enter marks:47836\n",
      "Invalid Input\n"
     ]
    }
   ],
   "source": [
    "marks=int(input('enter marks:'))\n",
    "if (0<=marks<=100):\n",
    "    if (marks>=90):\n",
    "        print('A')\n",
    "    elif (80<=marks):\n",
    "        print('B')\n",
    "    elif (70<=marks):\n",
    "        print('C')\n",
    "    elif (60<=marks):\n",
    "        print('D')\n",
    "    else:\n",
    "        print('E')\n",
    "else:\n",
    "    print('Invalid Input')"
   ]
  },
  {
   "cell_type": "code",
   "execution_count": 58,
   "id": "6aa49007",
   "metadata": {},
   "outputs": [
    {
     "name": "stdout",
     "output_type": "stream",
     "text": [
      "0.9599678332000039\n"
     ]
    }
   ],
   "source": [
    "import random\n",
    "print(random.random())"
   ]
  },
  {
   "cell_type": "code",
   "execution_count": 59,
   "id": "654800f2",
   "metadata": {},
   "outputs": [
    {
     "name": "stdout",
     "output_type": "stream",
     "text": [
      "2\n"
     ]
    }
   ],
   "source": [
    "# simulate a dice\n",
    "print(random.randrange(1,7))"
   ]
  },
  {
   "cell_type": "code",
   "execution_count": 65,
   "id": "104f3d81",
   "metadata": {},
   "outputs": [
    {
     "name": "stdout",
     "output_type": "stream",
     "text": [
      "                                  2023\n",
      "\n",
      "      January                   February                   March\n",
      "Mo Tu We Th Fr Sa Su      Mo Tu We Th Fr Sa Su      Mo Tu We Th Fr Sa Su\n",
      "                   1             1  2  3  4  5             1  2  3  4  5\n",
      " 2  3  4  5  6  7  8       6  7  8  9 10 11 12       6  7  8  9 10 11 12\n",
      " 9 10 11 12 13 14 15      13 14 15 16 17 18 19      13 14 15 16 17 18 19\n",
      "16 17 18 19 20 21 22      20 21 22 23 24 25 26      20 21 22 23 24 25 26\n",
      "23 24 25 26 27 28 29      27 28                     27 28 29 30 31\n",
      "30 31\n",
      "\n",
      "       April                      May                       June\n",
      "Mo Tu We Th Fr Sa Su      Mo Tu We Th Fr Sa Su      Mo Tu We Th Fr Sa Su\n",
      "                1  2       1  2  3  4  5  6  7                1  2  3  4\n",
      " 3  4  5  6  7  8  9       8  9 10 11 12 13 14       5  6  7  8  9 10 11\n",
      "10 11 12 13 14 15 16      15 16 17 18 19 20 21      12 13 14 15 16 17 18\n",
      "17 18 19 20 21 22 23      22 23 24 25 26 27 28      19 20 21 22 23 24 25\n",
      "24 25 26 27 28 29 30      29 30 31                  26 27 28 29 30\n",
      "\n",
      "        July                     August                  September\n",
      "Mo Tu We Th Fr Sa Su      Mo Tu We Th Fr Sa Su      Mo Tu We Th Fr Sa Su\n",
      "                1  2          1  2  3  4  5  6                   1  2  3\n",
      " 3  4  5  6  7  8  9       7  8  9 10 11 12 13       4  5  6  7  8  9 10\n",
      "10 11 12 13 14 15 16      14 15 16 17 18 19 20      11 12 13 14 15 16 17\n",
      "17 18 19 20 21 22 23      21 22 23 24 25 26 27      18 19 20 21 22 23 24\n",
      "24 25 26 27 28 29 30      28 29 30 31               25 26 27 28 29 30\n",
      "31\n",
      "\n",
      "      October                   November                  December\n",
      "Mo Tu We Th Fr Sa Su      Mo Tu We Th Fr Sa Su      Mo Tu We Th Fr Sa Su\n",
      "                   1             1  2  3  4  5                   1  2  3\n",
      " 2  3  4  5  6  7  8       6  7  8  9 10 11 12       4  5  6  7  8  9 10\n",
      " 9 10 11 12 13 14 15      13 14 15 16 17 18 19      11 12 13 14 15 16 17\n",
      "16 17 18 19 20 21 22      20 21 22 23 24 25 26      18 19 20 21 22 23 24\n",
      "23 24 25 26 27 28 29      27 28 29 30               25 26 27 28 29 30 31\n",
      "30 31\n",
      "\n",
      "     July 2024\n",
      "Mo Tu We Th Fr Sa Su\n",
      " 1  2  3  4  5  6  7\n",
      " 8  9 10 11 12 13 14\n",
      "15 16 17 18 19 20 21\n",
      "22 23 24 25 26 27 28\n",
      "29 30 31\n",
      "\n"
     ]
    }
   ],
   "source": [
    "from calendar import *\n",
    "\n",
    "print(calendar(2023))\n",
    "print(month(2024, 7))"
   ]
  },
  {
   "cell_type": "code",
   "execution_count": 4,
   "id": "eef84b2c",
   "metadata": {},
   "outputs": [
    {
     "name": "stdout",
     "output_type": "stream",
     "text": [
      "Enter a number:4\n",
      "24\n"
     ]
    }
   ],
   "source": [
    "# finding factorial of a number\n",
    "n=int(input('Enter a number:'))\n",
    "i=1\n",
    "answer=1\n",
    "while (i<=n):\n",
    "    answer=answer*i\n",
    "    i=i+1\n",
    "    \n",
    "print(answer)"
   ]
  },
  {
   "cell_type": "code",
   "execution_count": 28,
   "id": "8eae61c4",
   "metadata": {},
   "outputs": [
    {
     "name": "stdout",
     "output_type": "stream",
     "text": [
      "Enter a number:4\n",
      "24\n"
     ]
    }
   ],
   "source": [
    "# find factorial of given number\n",
    "num=int(input('Enter a number:'))\n",
    "fact=1\n",
    "if (num<0):\n",
    "    print('Not defined')\n",
    "else:\n",
    "    while (num>0):\n",
    "        fact=fact*num\n",
    "        num=num-1\n",
    "    print(fact)"
   ]
  },
  {
   "cell_type": "code",
   "execution_count": 29,
   "id": "79add1b4",
   "metadata": {},
   "outputs": [
    {
     "name": "stdout",
     "output_type": "stream",
     "text": [
      "Enter a number:4\n",
      "24\n"
     ]
    }
   ],
   "source": [
    "# find factorial of given number\n",
    "num=int(input('Enter a number:'))\n",
    "fact=1\n",
    "if (num<0):\n",
    "    print('Not defined')\n",
    "else:\n",
    "    for i in range(num, 1, -1):\n",
    "        fact=fact*i\n",
    "    print(fact)"
   ]
  },
  {
   "cell_type": "code",
   "execution_count": 2,
   "id": "011a4979",
   "metadata": {},
   "outputs": [
    {
     "name": "stdout",
     "output_type": "stream",
     "text": [
      "Enter a number:-7\n",
      "1\n"
     ]
    }
   ],
   "source": [
    "# find the number of digits in the given number. abs() known as absolute method is used for converting negative to positive\n",
    "num= abs(int(input('Enter a number:')))\n",
    "digits=1\n",
    "while(num>9):\n",
    "    num=num//10\n",
    "    digits=digits+1\n",
    "print(digits)"
   ]
  },
  {
   "cell_type": "code",
   "execution_count": 30,
   "id": "a4b24ee5",
   "metadata": {},
   "outputs": [
    {
     "name": "stdout",
     "output_type": "stream",
     "text": [
      "Enter a number:2345\n",
      "4\n"
     ]
    }
   ],
   "source": [
    "num= abs(int(input('Enter a number:')))\n",
    "string=str(num)\n",
    "digits=0\n",
    "for i in string:\n",
    "    digits=digits+1\n",
    "print(digits)"
   ]
  },
  {
   "cell_type": "code",
   "execution_count": 9,
   "id": "f3072ac9",
   "metadata": {},
   "outputs": [
    {
     "name": "stdout",
     "output_type": "stream",
     "text": [
      "Enter a number:-9876\n",
      "-6789\n"
     ]
    }
   ],
   "source": [
    "# reverse the digits\n",
    "num=int(input('Enter a number:'))\n",
    "absnum=abs(num)\n",
    "rev=absnum%10\n",
    "absnum=absnum//10\n",
    "while(absnum>0):\n",
    "    r=absnum%10\n",
    "    absnum=absnum//10\n",
    "    rev=rev*10+r\n",
    "if (num>=0):\n",
    "    print(rev)\n",
    "else:\n",
    "    print(rev-2*rev)"
   ]
  },
  {
   "cell_type": "code",
   "execution_count": 3,
   "id": "d6e0217c",
   "metadata": {},
   "outputs": [
    {
     "name": "stdout",
     "output_type": "stream",
     "text": [
      "Enter a number:-876\n",
      "-678\n"
     ]
    }
   ],
   "source": [
    "# reverse the digits\n",
    "num=int(input('Enter a number:'))\n",
    "strabsnum=str(abs(num))\n",
    "rev=''\n",
    "for i in strabsnum:\n",
    "    rev=i+rev\n",
    "if (num>=0):\n",
    "    print(rev)\n",
    "else:\n",
    "    print('-'+rev)"
   ]
  },
  {
   "cell_type": "code",
   "execution_count": 11,
   "id": "880fa95c",
   "metadata": {},
   "outputs": [
    {
     "name": "stdout",
     "output_type": "stream",
     "text": [
      "Enter a number:1234321\n",
      "Palindrome\n"
     ]
    }
   ],
   "source": [
    "# find whether the entered number is a palindrome\n",
    "# palindrome is a number that is equal to its reverse\n",
    "num=int(input('Enter a number:'))\n",
    "absnum=abs(num)\n",
    "rev=absnum%10\n",
    "absnum=absnum//10\n",
    "while(absnum>0):\n",
    "    r=absnum%10\n",
    "    absnum=absnum//10\n",
    "    rev=rev*10+r\n",
    "if (num<0):\n",
    "    rev=rev - 2*rev\n",
    "if (num==rev):\n",
    "    print(\"Palindrome\")\n",
    "else:\n",
    "    print(\"Not a Palindrome\")"
   ]
  },
  {
   "cell_type": "code",
   "execution_count": 5,
   "id": "d98ccb3a",
   "metadata": {},
   "outputs": [
    {
     "name": "stdout",
     "output_type": "stream",
     "text": [
      "Enter a number:12321\n",
      "Palindrome\n"
     ]
    }
   ],
   "source": [
    "# find whether the entered number is a palindrome\n",
    "# palindrome is a number that is equal to its reverse\n",
    "num=int(input('Enter a number:'))\n",
    "strabsnum=str(abs(num))\n",
    "rev=''\n",
    "for i in strabsnum:\n",
    "    rev=i+rev\n",
    "if (num<0):\n",
    "    rev = '-'+rev\n",
    "if (num==int(rev)):\n",
    "    print(\"Palindrome\")\n",
    "else:\n",
    "    print(\"Not a Palindrome\")"
   ]
  },
  {
   "cell_type": "code",
   "execution_count": 16,
   "id": "97c463f0",
   "metadata": {},
   "outputs": [
    {
     "name": "stdout",
     "output_type": "stream",
     "text": [
      "Enter a number:21\n",
      "0 Harshita\n",
      "1 ######\n",
      "2 Harshita\n",
      "3 ######\n",
      "4 Harshita\n",
      "5 ######\n",
      "6 Harshita\n",
      "7 ######\n",
      "8 Harshita\n",
      "9 ######\n",
      "10 Harshita\n",
      "11 ######\n",
      "12 Harshita\n",
      "13 ######\n",
      "14 Harshita\n",
      "15 ######\n",
      "16 Harshita\n",
      "17 ######\n",
      "18 Harshita\n",
      "19 ######\n",
      "20 Harshita\n"
     ]
    }
   ],
   "source": [
    "# for loop\n",
    "n=int(input('Enter a number:'))\n",
    "\n",
    "for i in range(n):\n",
    "    if (i%2==0):\n",
    "        print(i, 'Harshita')\n",
    "    else:\n",
    "        print(i, \"######\")"
   ]
  },
  {
   "cell_type": "code",
   "execution_count": 19,
   "id": "51c398dc",
   "metadata": {},
   "outputs": [
    {
     "name": "stdout",
     "output_type": "stream",
     "text": [
      "enter a number:6\n",
      "15\n"
     ]
    }
   ],
   "source": [
    "n=int(input('enter a number:'))\n",
    "ans=0\n",
    "for i in range(n):\n",
    "    ans=ans+i\n",
    "print(ans)"
   ]
  },
  {
   "cell_type": "code",
   "execution_count": 21,
   "id": "8e70d525",
   "metadata": {},
   "outputs": [
    {
     "name": "stdout",
     "output_type": "stream",
     "text": [
      "1\n",
      "3\n",
      "5\n",
      "7\n",
      "9\n",
      "9\n",
      "7\n",
      "5\n",
      "3\n",
      "1\n"
     ]
    }
   ],
   "source": [
    "for i in range(1, 10, 2):\n",
    "    print(i)\n",
    "\n",
    "for i in range(9,-1,-2):\n",
    "    print(i)"
   ]
  },
  {
   "cell_type": "code",
   "execution_count": 22,
   "id": "883f4e77",
   "metadata": {},
   "outputs": [
    {
     "name": "stdout",
     "output_type": "stream",
     "text": [
      "i\n",
      "n\n",
      "d\n",
      "i\n",
      "a\n"
     ]
    }
   ],
   "source": [
    "# for loop without range is known as for each\n",
    "country='india'\n",
    "for i in country:\n",
    "    print(i)"
   ]
  },
  {
   "cell_type": "markdown",
   "id": "81c9e7fe",
   "metadata": {},
   "source": [
    "print parameters: end(), sep(), formatted printing or format function"
   ]
  },
  {
   "cell_type": "code",
   "execution_count": 23,
   "id": "7141407e",
   "metadata": {},
   "outputs": [
    {
     "name": "stdout",
     "output_type": "stream",
     "text": [
      "Value of Pi = 3.142857142857143\n",
      "Value of Pi = 3.142857142857143\n"
     ]
    }
   ],
   "source": [
    "# formatted printing and format function\n",
    "pi=22/7\n",
    "print(f'Value of Pi = {pi}')\n",
    "print('Value of Pi = {0}'.format(pi))"
   ]
  },
  {
   "cell_type": "code",
   "execution_count": 24,
   "id": "954e295c",
   "metadata": {},
   "outputs": [
    {
     "name": "stdout",
     "output_type": "stream",
     "text": [
      "Value of Pi = 3.14\n",
      "Value of Pi = 3.14\n"
     ]
    }
   ],
   "source": [
    "# format specifier is used for reducing the decimal points\n",
    "pi=22/7\n",
    "print(f'Value of Pi = {pi:.2f}')\n",
    "print('Value of Pi = {0:.2f}'.format(pi))"
   ]
  },
  {
   "cell_type": "code",
   "execution_count": 2,
   "id": "0137ba42",
   "metadata": {},
   "outputs": [
    {
     "name": "stdout",
     "output_type": "stream",
     "text": [
      "0 h 0 h\n",
      "0 h 1 a\n",
      "0 h 2 r\n",
      "0 h 3 s\n",
      "0 h 4 h\n",
      "0 h 5 i\n",
      "1 a 0 h\n",
      "1 a 1 a\n",
      "1 a 2 r\n",
      "1 a 3 s\n",
      "1 a 4 h\n",
      "1 a 5 i\n",
      "2 r 0 h\n",
      "2 r 1 a\n",
      "2 r 2 r\n",
      "2 r 3 s\n",
      "2 r 4 h\n",
      "2 r 5 i\n",
      "3 s 0 h\n",
      "3 s 1 a\n",
      "3 s 2 r\n",
      "3 s 3 s\n",
      "3 s 4 h\n",
      "3 s 5 i\n",
      "4 h 0 h\n",
      "4 h 1 a\n",
      "4 h 2 r\n",
      "4 h 3 s\n",
      "4 h 4 h\n",
      "4 h 5 i\n",
      "5 i 0 h\n",
      "5 i 1 a\n",
      "5 i 2 r\n",
      "5 i 3 s\n",
      "5 i 4 h\n",
      "5 i 5 i\n",
      "Count of combinations 36\n"
     ]
    }
   ],
   "source": [
    "# nested for loop\n",
    "h = 'harshita'\n",
    "count=0\n",
    "for i in range(6):\n",
    "    for j in range(6):\n",
    "        print(i, h[i], j, h[j])\n",
    "        count=count+1\n",
    "\n",
    "print(\"Count of combinations\", count)"
   ]
  },
  {
   "cell_type": "code",
   "execution_count": 2,
   "id": "b1bc7d63",
   "metadata": {},
   "outputs": [
    {
     "name": "stdout",
     "output_type": "stream",
     "text": [
      "enter a number7\n",
      "2 3 5 "
     ]
    }
   ],
   "source": [
    "# find all prime numbers less than the entered number\n",
    "num=int(input('enter a number'))\n",
    "if (num>2):\n",
    "    print(2, end = ' ')\n",
    "for i in range(3, num):\n",
    "    flag = False\n",
    "    for j in range(2, i):\n",
    "        if (i%j==0):\n",
    "            flag=False\n",
    "            break\n",
    "        else:\n",
    "            flag= True\n",
    "    if (flag):\n",
    "        print(i, end = ' ')"
   ]
  },
  {
   "cell_type": "code",
   "execution_count": 3,
   "id": "90a913c3",
   "metadata": {},
   "outputs": [
    {
     "name": "stdout",
     "output_type": "stream",
     "text": [
      "Enter the employee ID: ai_132\n",
      "Enter the trade amount: 6578\n",
      "Enter the trade amount: 3456\n",
      "Enter the trade amount: 9876\n",
      "Enter the trade amount: -9876\n",
      "Enter the trade amount: -1234\n",
      "Enter the trade amount: 0\n",
      "Profit/loss for employee ai_132 is 8800\n",
      "\n",
      "Enter employee ID: -1\n"
     ]
    }
   ],
   "source": [
    "# find total profit/loss of each trader working in trading firm\n",
    "empID = input('Enter the employee ID: ')\n",
    "while (empID != '-1'):\n",
    "    trade = int(input('Enter the trade amount: '))\n",
    "    profit_loss = 0\n",
    "    while (trade !=0):\n",
    "        profit_loss =profit_loss + trade\n",
    "        trade = int(input('Enter the trade amount: '))\n",
    "    print(f'Profit/loss for employee {empID} is {profit_loss}')\n",
    "    empID = input('\\nEnter employee ID: ')"
   ]
  },
  {
   "cell_type": "code",
   "execution_count": 4,
   "id": "136c3bc3",
   "metadata": {},
   "outputs": [
    {
     "name": "stdout",
     "output_type": "stream",
     "text": [
      "enter number of days: 3\n",
      "enter the rainfall: 54\n",
      "enter rainfall: 1\n",
      "enter rainfall: -1\n",
      "Total rainfall for day 1 is 55\n",
      "enter the rainfall: 23\n",
      "enter rainfall: 12\n",
      "enter rainfall: 34\n",
      "enter rainfall: 45\n",
      "enter rainfall: 56\n",
      "enter rainfall: 67\n",
      "enter rainfall: 78\n",
      "enter rainfall: -1\n",
      "Total rainfall for day 2 is 315\n",
      "enter the rainfall: 98\n",
      "enter rainfall: 87\n",
      "enter rainfall: 76\n",
      "enter rainfall: 65\n",
      "enter rainfall: 54\n",
      "enter rainfall: 43\n",
      "enter rainfall: 32\n",
      "enter rainfall: -1\n",
      "Total rainfall for day 3 is 455\n"
     ]
    }
   ],
   "source": [
    "# find day-wise total rainfall for entered duration of time\n",
    "days = int(input('enter number of days: '))\n",
    "for i in range(1, days+1):\n",
    "    total = 0\n",
    "    rainfall=int(input('enter the rainfall: '))\n",
    "    while (rainfall !=-1):\n",
    "        total = total + rainfall\n",
    "        rainfall = int(input('enter rainfall: '))\n",
    "    print('Total rainfall for day {0} is {1}'.format(i, total))"
   ]
  },
  {
   "cell_type": "code",
   "execution_count": 5,
   "id": "2a20b405",
   "metadata": {},
   "outputs": [
    {
     "name": "stdout",
     "output_type": "stream",
     "text": [
      "Enter a word: harshita\n",
      "Enter a word: aswani\n",
      "Enter a word: is\n",
      "Enter a word: the\n",
      "Enter a word: most\n",
      "Enter a word: beautifu;\n",
      "Enter a word: girl\n",
      "Enter a word: living\n",
      "Enter a word: on\n",
      "Enter a word: this\n",
      "Enter a word: planet\n",
      "Enter a word: -1\n",
      "The length of longest word is 9\n"
     ]
    }
   ],
   "source": [
    "# find the length of longest word\n",
    "word = input('Enter a word: ')\n",
    "maxlen=0\n",
    "while (word !='-1'):\n",
    "    count = 0\n",
    "    for letter in word:\n",
    "        count = count + 1\n",
    "    if (count > maxlen):\n",
    "        maxlen = count\n",
    "    word = input('Enter a word: ')\n",
    "print('The length of longest word is %s' %maxlen)"
   ]
  },
  {
   "cell_type": "code",
   "execution_count": 11,
   "id": "2e88fe85",
   "metadata": {},
   "outputs": [
    {
     "name": "stdout",
     "output_type": "stream",
     "text": [
      "xyz@gmail.com\n",
      "xyz"
     ]
    }
   ],
   "source": [
    "# break: terminate the loop\n",
    "email=input()\n",
    "for i in email:\n",
    "    if(i== '@'):\n",
    "        break\n",
    "    print(i, end='')"
   ]
  },
  {
   "cell_type": "code",
   "execution_count": 12,
   "id": "603fd362",
   "metadata": {},
   "outputs": [
    {
     "name": "stdout",
     "output_type": "stream",
     "text": [
      "xyz@gmail.com\n",
      "xyz\n",
      "gmail.com"
     ]
    }
   ],
   "source": [
    "# continue: execute next iteration\n",
    "email=input()\n",
    "for i in email:\n",
    "    if(i== '@'):\n",
    "        print('')\n",
    "        continue\n",
    "    print(i, end='')"
   ]
  },
  {
   "cell_type": "code",
   "execution_count": 15,
   "id": "dac479e6",
   "metadata": {},
   "outputs": [
    {
     "name": "stdout",
     "output_type": "stream",
     "text": [
      "0\n",
      "3\n",
      "6\n",
      "9\n"
     ]
    }
   ],
   "source": [
    "# pass: does nothing\n",
    "for i in range(11):\n",
    "    if (i%3==0):\n",
    "        print(i)\n",
    "    else:\n",
    "        pass"
   ]
  },
  {
   "cell_type": "markdown",
   "id": "72e7db49",
   "metadata": {},
   "source": [
    "list methods: append(), remove(),"
   ]
  },
  {
   "cell_type": "code",
   "execution_count": 4,
   "id": "3e59fd15",
   "metadata": {},
   "outputs": [
    {
     "data": {
      "text/plain": [
       "[1, 2, 3, 4, 5]"
      ]
     },
     "execution_count": 4,
     "metadata": {},
     "output_type": "execute_result"
    }
   ],
   "source": [
    "l=[1,2,3,4]\n",
    "l.append(5)\n",
    "l"
   ]
  },
  {
   "cell_type": "code",
   "execution_count": 5,
   "id": "8a3ee1c9",
   "metadata": {},
   "outputs": [
    {
     "data": {
      "text/plain": [
       "[2, 3, 4]"
      ]
     },
     "execution_count": 5,
     "metadata": {},
     "output_type": "execute_result"
    }
   ],
   "source": [
    "l=[1,2,3,4]\n",
    "l.remove(1)\n",
    "l"
   ]
  },
  {
   "cell_type": "code",
   "execution_count": 7,
   "id": "5e229bc2",
   "metadata": {},
   "outputs": [
    {
     "data": {
      "text/plain": [
       "[[2, 3, 4]]"
      ]
     },
     "execution_count": 7,
     "metadata": {},
     "output_type": "execute_result"
    }
   ],
   "source": [
    "x=[]\n",
    "x.append(l)\n",
    "x"
   ]
  },
  {
   "cell_type": "code",
   "execution_count": 25,
   "id": "45ce8fa4",
   "metadata": {},
   "outputs": [
    {
     "name": "stdout",
     "output_type": "stream",
     "text": [
      "[[10, 20, 30], [11, 22, 33]]\n"
     ]
    }
   ],
   "source": [
    "print(x)"
   ]
  },
  {
   "cell_type": "code",
   "execution_count": 26,
   "id": "5a3ad11f",
   "metadata": {},
   "outputs": [
    {
     "data": {
      "text/plain": [
       "10"
      ]
     },
     "execution_count": 26,
     "metadata": {},
     "output_type": "execute_result"
    }
   ],
   "source": [
    "x[0][0]"
   ]
  },
  {
   "cell_type": "code",
   "execution_count": 27,
   "id": "ee0fdf59",
   "metadata": {},
   "outputs": [
    {
     "data": {
      "text/plain": [
       "33"
      ]
     },
     "execution_count": 27,
     "metadata": {},
     "output_type": "execute_result"
    }
   ],
   "source": [
    "x[1][2]"
   ]
  },
  {
   "cell_type": "code",
   "execution_count": 10,
   "id": "7e4af0f2",
   "metadata": {},
   "outputs": [
    {
     "name": "stdout",
     "output_type": "stream",
     "text": [
      "[2, 26, 51, 53, 93, 100, 172, 198, 203, 207, 229, 234, 236, 239, 253, 279, 295, 316, 323, 324]\n",
      "no repeatation\n"
     ]
    }
   ],
   "source": [
    "# Birthday Paradox\n",
    "import random\n",
    "l=[]\n",
    "# create an empty list\n",
    "for i in range(20):\n",
    "    l.append(random.randint(1,365))\n",
    "    #append random numbers between 1 to 365\n",
    "    #append 30 of them\n",
    "l.sort()\n",
    "print(l)\n",
    "i=0\n",
    "flag=0\n",
    "while(i<len(l)-1):\n",
    "    if (l[i]==l[i+1]):\n",
    "        print('Repeats', l[i], l[i+1])\n",
    "        flag=1\n",
    "        break\n",
    "    i+=1\n",
    "if (flag==0):\n",
    "    print('no repeatation')"
   ]
  },
  {
   "cell_type": "code",
   "execution_count": 11,
   "id": "46ab257c",
   "metadata": {},
   "outputs": [
    {
     "name": "stdout",
     "output_type": "stream",
     "text": [
      "Enter a number, type -1 to exit: \n",
      "78\n",
      "element not found\n",
      "Enter a number, type -1 to exit: \n",
      "90\n",
      "element not found\n",
      "Enter a number, type -1 to exit: \n",
      "100\n",
      "element not found\n",
      "Enter a number, type -1 to exit: \n",
      "-1\n",
      "element not found\n"
     ]
    }
   ],
   "source": [
    "# naive search in a list\n",
    "import random\n",
    "l=[]\n",
    "for i in range(1000):\n",
    "    l.append(random.randint(1, 10000))\n",
    "    \n",
    "n=0\n",
    "while (n>-1):\n",
    "    print('Enter a number, type -1 to exit: ')\n",
    "    n=int(input())\n",
    "    \n",
    "    flag = 0\n",
    "    \n",
    "    for i in range(len(l)):\n",
    "        if (n==l[i]):\n",
    "            print('element found')\n",
    "            flag=1\n",
    "            break;\n",
    "    if (flag==0):\n",
    "        print('element not found')"
   ]
  },
  {
   "cell_type": "code",
   "execution_count": 12,
   "id": "883dc6f9",
   "metadata": {},
   "outputs": [
    {
     "name": "stdout",
     "output_type": "stream",
     "text": [
      "[]\n",
      "[5, 6, 7, 7, 8, 10, 12, 18, 35, 42, 61, 64, 82, 561, 591, 5617, 9880]\n"
     ]
    }
   ],
   "source": [
    "# obvious sort l.sort()\n",
    "l=[12,10,7,18,6,42,8,5,35,561,591,5617,64,9880,61,82,7]\n",
    "x=[]\n",
    "while (len(l)>0):\n",
    "    min=l[0]\n",
    "    for i in range(len(l)):\n",
    "        if l[i]<min:\n",
    "            min=l[i]\n",
    "    x.append(min)\n",
    "    l.remove(min)\n",
    "print(l)\n",
    "print(x)"
   ]
  },
  {
   "cell_type": "code",
   "execution_count": 4,
   "id": "1ce540d9",
   "metadata": {},
   "outputs": [
    {
     "name": "stdout",
     "output_type": "stream",
     "text": [
      "4597\n"
     ]
    }
   ],
   "source": [
    "# dot product\n",
    "x=[1,7,3,4,11,72]\n",
    "y=[8,6,3,2,6,62]\n",
    "\n",
    "sum=0\n",
    "for i in range(len(x)):\n",
    "    sum=sum+x[i]*y[i]\n",
    "    \n",
    "print(sum)"
   ]
  },
  {
   "cell_type": "code",
   "execution_count": 3,
   "id": "3991b179",
   "metadata": {},
   "outputs": [
    {
     "name": "stdout",
     "output_type": "stream",
     "text": [
      "[[1, 2, 3], [4, 5, 6], [7, 8, 9]]\n",
      "[[1, 2, 1], [6, 2, 3], [4, 2, 1]]\n",
      "[[2, 4, 4], [10, 7, 9], [11, 10, 10]]\n"
     ]
    }
   ],
   "source": [
    "# matrix addition\n",
    "r1=[1,2,3]\n",
    "r2=[4,5,6]\n",
    "r3=[7,8,9]\n",
    "\n",
    "s1=[1,2,1]\n",
    "s2=[6,2,3]\n",
    "s3=[4,2,1]\n",
    "\n",
    "A=[]\n",
    "A.append(r1)\n",
    "A.append(r2)\n",
    "A.append(r3)\n",
    "\n",
    "B=[]\n",
    "B.append(s1)\n",
    "B.append(s2)\n",
    "B.append(s3)\n",
    "\n",
    "print(A)\n",
    "print(B)\n",
    "\n",
    "dim=3\n",
    "\n",
    "C=[[0,0,0], [0,0,0], [0,0,0]]\n",
    "\n",
    "for i in range(dim):\n",
    "    for j in range(dim):\n",
    "        C[i][j]=A[i][j]+B[i][j]\n",
    "        \n",
    "print(C)"
   ]
  },
  {
   "cell_type": "code",
   "execution_count": 20,
   "id": "3542cb3e",
   "metadata": {},
   "outputs": [
    {
     "name": "stdout",
     "output_type": "stream",
     "text": [
      "[[25, 12, 10], [58, 30, 25], [91, 48, 40]]\n",
      "[[25 12 10]\n",
      " [58 30 25]\n",
      " [91 48 40]]\n"
     ]
    }
   ],
   "source": [
    "# matrix multiplication\n",
    "C=[[0,0,0], [0,0,0], [0,0,0]]\n",
    "\n",
    "for i in range(dim):\n",
    "    for j in range(dim):\n",
    "        for k in range(dim):\n",
    "            C[i][j]=C[i][j]+A[i][k]*B[k][j]\n",
    "        \n",
    "print(C)\n",
    "\n",
    "# other method\n",
    "\n",
    "import numpy\n",
    "x=numpy.mat(A)\n",
    "y=numpy.mat(B)\n",
    "print(x*y)"
   ]
  },
  {
   "cell_type": "code",
   "execution_count": 21,
   "id": "9048b4f5",
   "metadata": {},
   "outputs": [
    {
     "name": "stdout",
     "output_type": "stream",
     "text": [
      "enter cost price\n",
      "14000\n",
      "enter discount\n",
      "10\n",
      "The final discount is:  12600.0\n"
     ]
    }
   ],
   "source": [
    "# function\n",
    "def discount(cost, disc):\n",
    "    ans=cost-(cost*(disc/100))\n",
    "    return ans\n",
    "print('enter cost price')\n",
    "x=int(input())\n",
    "print('enter discount')\n",
    "y=int(input())\n",
    "\n",
    "print('The final discount is: ', discount(x,y))"
   ]
  },
  {
   "cell_type": "code",
   "execution_count": 23,
   "id": "cc9339c9",
   "metadata": {},
   "outputs": [
    {
     "name": "stdout",
     "output_type": "stream",
     "text": [
      "-10\n",
      "100\n",
      "[10, 20, 30, 1, 2, 3, 4, 5, -10, 6, 4, 100]\n",
      "[1, 2, 3, 4, 5, -10, 6, 4, 100, 10, 20, 30]\n",
      "12.777777777777779\n"
     ]
    }
   ],
   "source": [
    "def list_min(l):\n",
    "    mini=l[0]\n",
    "    for i in range(len(l)):\n",
    "        if (l[i]<mini):\n",
    "            mini=l[i]\n",
    "    return mini\n",
    "\n",
    "def list_max(l):\n",
    "    maxi=l[0]\n",
    "    for i in range(len(l)):\n",
    "        if (l[i]>maxi):\n",
    "            maxi=l[i]\n",
    "    return maxi\n",
    "\n",
    "def list_appendbefore(l,z):\n",
    "    newl=[]\n",
    "    for i in range(len(z)):\n",
    "        newl.append(z[i])\n",
    "    for i in range(len(l)):\n",
    "        newl.append(l[i])\n",
    "    return newl\n",
    "\n",
    "def list_append(l,z):\n",
    "    newl=[]\n",
    "    for i in range(len(l)):\n",
    "        newl.append(l[i])\n",
    "    for i in range(len(z)):\n",
    "        newl.append(z[i])\n",
    "    return newl\n",
    "\n",
    "def list_average(l):\n",
    "    sum=0\n",
    "    for i in range(len(l)):\n",
    "        sum=sum+l[i]\n",
    "    ans=sum/len(l)\n",
    "    return ans\n",
    "\n",
    "l=[1,2,3,4,5,-10,6,4,100]\n",
    "z=[10,20,30]\n",
    "print(list_min(l))\n",
    "print(list_max(l))\n",
    "print(list_appendbefore(l,z))\n",
    "print(list_append(l,z))\n",
    "print(list_average(l))"
   ]
  },
  {
   "cell_type": "code",
   "execution_count": 1,
   "id": "10b1ab62",
   "metadata": {},
   "outputs": [
    {
     "name": "stdout",
     "output_type": "stream",
     "text": [
      "[1, 6, 23, 88, 90, 97]\n"
     ]
    }
   ],
   "source": [
    "# obvious sorting using functions\n",
    "def min_list(l):\n",
    "    mini=l[0]\n",
    "    for i in range(len(l)):\n",
    "        if (l[i]<mini):\n",
    "            mini=l[i]\n",
    "    return mini\n",
    "\n",
    "def obvious_sort(l):\n",
    "    x=[]\n",
    "    while (len(l)>0):\n",
    "        mini=min_list(l)\n",
    "        x.append(mini)\n",
    "        l.remove(mini)\n",
    "    return x\n",
    "\n",
    "l=[90,23,97,88,6,1]\n",
    "print(obvious_sort(l))"
   ]
  },
  {
   "cell_type": "code",
   "execution_count": 5,
   "id": "8494b0ed",
   "metadata": {},
   "outputs": [
    {
     "data": {
      "text/plain": [
       "[[25, 12, 10], [58, 30, 25], [91, 48, 40]]"
      ]
     },
     "execution_count": 5,
     "metadata": {},
     "output_type": "execute_result"
    }
   ],
   "source": [
    "# matrix multiplication using functions\n",
    "def initialize_mat(dim):\n",
    "    C=[]\n",
    "    for i in range(dim):\n",
    "        C.append([])\n",
    "    for i in range(dim):\n",
    "        for j in range(dim):\n",
    "            C[i].append(0)\n",
    "    return C\n",
    "\n",
    "def dot_product(u,v):\n",
    "    dim=len(u)\n",
    "    ans=0\n",
    "    for i in range(dim):\n",
    "        ans=ans+u[i]*v[i]\n",
    "    return ans\n",
    "\n",
    "def row(M, i):\n",
    "    dim=len(M)\n",
    "    l=[]\n",
    "    for k in range(dim):\n",
    "        l.append(M[i][k])\n",
    "    return l\n",
    "\n",
    "def column(M, j):\n",
    "    dim=len(M)\n",
    "    l=[]\n",
    "    for k in range(dim):\n",
    "        l.append(M[k][j])\n",
    "    return l\n",
    "\n",
    "def mat_mul(A, B):\n",
    "    dim=len(A)\n",
    "    C=initialize_mat(dim)\n",
    "    for i in range(dim):\n",
    "        for j in range(dim):\n",
    "            C[i][j]=dot_product(row(A, i), column(B, j))\n",
    "    return C\n",
    "\n",
    "mat_mul(A, B)"
   ]
  },
  {
   "cell_type": "code",
   "execution_count": 1,
   "id": "9d570f40",
   "metadata": {},
   "outputs": [
    {
     "name": "stdout",
     "output_type": "stream",
     "text": [
      "enter sentence: Harshita Aswani is the best human\n",
      "\n",
      "Total number of upper case characters: 2\n",
      "\n",
      "Total number of lower case characters: 26\n",
      "\n",
      "Total number of characters: 33\n",
      "\n",
      "Total number of words: 6\n"
     ]
    }
   ],
   "source": [
    "'''write a code that calculates number of upper case letters, lower case letters, \n",
    "total number of characters and number of words'''\n",
    "\n",
    "def upper(s):\n",
    "    upper = 0\n",
    "    for c in s:\n",
    "        if (c.isupper()):\n",
    "            upper += 1\n",
    "    return (upper)\n",
    "\n",
    "def lower(s):\n",
    "    lower = 0\n",
    "    for c in s:\n",
    "        if (c.islower()):\n",
    "            lower += 1\n",
    "    return (lower)\n",
    "\n",
    "def characters(s):\n",
    "    chars = 0\n",
    "    for c in s:\n",
    "        chars += 1\n",
    "    return (chars)\n",
    "\n",
    "def words(s):\n",
    "    words = 1\n",
    "    for c in s:\n",
    "        if (c==' '):\n",
    "            words += 1\n",
    "    return (words)\n",
    "\n",
    "sent = input('enter sentence: ')\n",
    "uletters = upper(sent)\n",
    "print(f'\\nTotal number of upper case characters: {uletters}')\n",
    "lletters = lower(sent)\n",
    "print(f'\\nTotal number of lower case characters: {lletters}')\n",
    "chars = characters(sent)\n",
    "print(f'\\nTotal number of characters: {chars}')\n",
    "words = words(sent)\n",
    "print(f'\\nTotal number of words: {words}')"
   ]
  },
  {
   "cell_type": "code",
   "execution_count": 6,
   "id": "91dda5b2",
   "metadata": {},
   "outputs": [
    {
     "name": "stdout",
     "output_type": "stream",
     "text": [
      "\n",
      "Enter radius of circle: 5\n",
      "Area of circle with radius 5.0 is 78.57142857142857 sq. units\n",
      "Perimeter of circle with radius 5.0 is 31.428571428571427 units\n",
      "\n",
      "Enter length of rectangle: 8\n",
      "\n",
      "Enter breadth of rectangle: 9\n",
      "Area of rectangle with length 8.0 and breadth 9.0 is 72.0 sq. units\n",
      "Perimeter of rectangle with length 8.0 and breadth 9.0 is 34.0 units\n"
     ]
    }
   ],
   "source": [
    "'''write a code that calculates area and perimeter of circle and rectangle'''\n",
    "\n",
    "# standard approach\n",
    "pi= 22/7\n",
    "\n",
    "def circle_area(r):\n",
    "    return (pi*r*r)\n",
    "\n",
    "def circle_perimeter(r):\n",
    "    return (2*pi*r)\n",
    "\n",
    "def rectangle_area(l, b):\n",
    "    return (l*b)\n",
    "\n",
    "def rectangle_perimeter(l, b):\n",
    "    return (2*(l+b))\n",
    "\n",
    "r = float(input('\\nEnter radius of circle: '))\n",
    "c_area = circle_area(r)\n",
    "print(f'Area of circle with radius {r} is {c_area} sq. units')\n",
    "c_peri = circle_perimeter(r)\n",
    "print(f'Perimeter of circle with radius {r} is {c_peri} units')\n",
    "l = float(input('\\nEnter length of rectangle: '))\n",
    "b = float(input('\\nEnter breadth of rectangle: '))\n",
    "r_area = rectangle_area(l, b)\n",
    "print(f'Area of rectangle with length {l} and breadth {b} is {r_area} sq. units')\n",
    "r_peri = rectangle_perimeter(l, b)\n",
    "print(f'Perimeter of rectangle with length {l} and breadth {b} is {r_peri} units')"
   ]
  },
  {
   "cell_type": "code",
   "execution_count": 5,
   "id": "1ed3d217",
   "metadata": {},
   "outputs": [
    {
     "name": "stdout",
     "output_type": "stream",
     "text": [
      "\n",
      "POLYGONS\n",
      "circle\n",
      "rectangle\n",
      "exit\n",
      "\n",
      "Choose polygon type or exit: rectangle\n",
      "\n",
      "Enter length of rectangle: 6\n",
      "\n",
      "Enter breadth of rectangle: 7\n",
      "\n",
      "RECTANGLE PROPERTIES\n",
      "area\n",
      "perimeter\n",
      "back\n",
      "\n",
      "Choose rectangle property or go back: perimeter\n",
      "Perimeter of rectangle with length 6.0 and breadth 7.0 is 26.0 units\n",
      "\n",
      "RECTANGLE PROPERTIES\n",
      "area\n",
      "perimeter\n",
      "back\n",
      "\n",
      "Choose rectangle property or go back: back\n",
      "\n",
      "POLYGONS\n",
      "circle\n",
      "rectangle\n",
      "exit\n",
      "\n",
      "Choose polygon type or exit: exit\n"
     ]
    }
   ],
   "source": [
    "'''write a code that calculates area and perimeter of circle and rectangle'''\n",
    "\n",
    "# menu driven approach\n",
    "import math\n",
    "pi= math.pi\n",
    "\n",
    "def circle_area(r):\n",
    "    return (pi*r*r)\n",
    "\n",
    "def circle_perimeter(r):\n",
    "    return (2*pi*r)\n",
    "\n",
    "def rectangle_area(l, b):\n",
    "    return (l*b)\n",
    "\n",
    "def rectangle_perimeter(l, b):\n",
    "    return (2*(l+b))\n",
    "\n",
    "polygon=''\n",
    "while(polygon != 'exit'):\n",
    "    print('\\nPOLYGONS\\ncircle\\nrectangle\\nexit')\n",
    "    polygon = input('\\nChoose polygon type or exit: ')\n",
    "    property=''\n",
    "    if (polygon == 'circle'):\n",
    "        r = float(input('\\nEnter radius of circle: '))\n",
    "        while (property == ''):\n",
    "            print('\\nCIRCLE PROPERTIES\\narea\\nperimeter\\nback')\n",
    "            property = input('\\nChoose circle property or go back: ')\n",
    "            if (property == 'area'):\n",
    "                c_area = circle_area(r)\n",
    "                print(f'Area of circle with radius {r} is {c_area} sq. units')\n",
    "                property = ''\n",
    "            elif (property == 'perimeter'):\n",
    "                c_peri = circle_perimeter(r)\n",
    "                print(f'Perimeter of circle with radius {r} is {c_peri} units')\n",
    "                property = ''\n",
    "            elif (property == 'back'):\n",
    "                break\n",
    "            else:\n",
    "                print('please select correct polygon property')\n",
    "                property = ''\n",
    "    elif (polygon == 'rectangle'):\n",
    "        l = float(input('\\nEnter length of rectangle: '))\n",
    "        b = float(input('\\nEnter breadth of rectangle: '))\n",
    "        while (property == ''):\n",
    "            print('\\nRECTANGLE PROPERTIES\\narea\\nperimeter\\nback')\n",
    "            property = input('\\nChoose rectangle property or go back: ')\n",
    "            if (property == 'area'):\n",
    "                r_area = rectangle_area(l, b)\n",
    "                print(f'Area of rectangle with length {l} and breadth {b} is {r_area} sq. units')\n",
    "                property = ''\n",
    "            elif (property == 'perimeter'):\n",
    "                r_peri = rectangle_perimeter(l, b)\n",
    "                print(f'Perimeter of rectangle with length {l} and breadth {b} is {r_peri} units')\n",
    "                property = ''\n",
    "            elif (property == 'back'):\n",
    "                break\n",
    "            else:\n",
    "                print('please select correct polygon property')\n",
    "                property = ''\n",
    "    elif (polygon == 'exit'):\n",
    "        break\n",
    "    else:\n",
    "        print('Please select correct polygon or exit')"
   ]
  },
  {
   "cell_type": "code",
   "execution_count": 9,
   "id": "e0c4c4db",
   "metadata": {},
   "outputs": [
    {
     "name": "stdout",
     "output_type": "stream",
     "text": [
      "Enter x coordinate of 1st point: 2\n",
      "Enter y coordinate of 1st point: 3\n",
      "Enter x coordinate of 2nd point: 3\n",
      "Enter y coordinate of 2nd point: 2\n",
      "Enter x coordinate of 3rd point: 2\n",
      "Enter y coordinate of 3rd point: 3\n",
      "\n",
      "Distance between points (2.0, 3.0) and (3.0, 2.0) is 2.0\n",
      "\n",
      "Distance between points (3.0, 2.0) and (2.0, 3.0) is 2.0\n",
      "\n",
      "Distance between points (2.0, 3.0) and (2.0, 3.0) is 0.0\n",
      "\n",
      "Not a Triangle\n"
     ]
    }
   ],
   "source": [
    "'''write a code that checks whether the given coordinates form a triangle or not'''\n",
    "\n",
    "# using distance between points\n",
    "def distance(xi, yi, xj, yj):\n",
    "    return (((xj-xi)**2)+((yj-yi)**2)**0.5)\n",
    "\n",
    "def istriangle(max, a, b):\n",
    "    if ((a+b)>max):\n",
    "        print('\\nTriangle')\n",
    "    else:\n",
    "        print('\\nNot a Triangle')\n",
    "        \n",
    "x1= float(input('Enter x coordinate of 1st point: '))\n",
    "y1= float(input('Enter y coordinate of 1st point: '))\n",
    "x2= float(input('Enter x coordinate of 2nd point: '))\n",
    "y2= float(input('Enter y coordinate of 2nd point: '))\n",
    "x3= float(input('Enter x coordinate of 3rd point: '))\n",
    "y3= float(input('Enter y coordinate of 3rd point: '))\n",
    "d1= distance(x1, y1, x2, y2)\n",
    "print(f'\\nDistance between points ({x1}, {y1}) and ({x2}, {y2}) is {d1}')\n",
    "d2= distance(x2, y2, x3, y3)\n",
    "print(f'\\nDistance between points ({x2}, {y2}) and ({x3}, {y3}) is {d2}')\n",
    "d3= distance(x3, y3, x1, y1)\n",
    "print(f'\\nDistance between points ({x3}, {y3}) and ({x1}, {y1}) is {d3}')\n",
    "\n",
    "if (d1>d2):\n",
    "    if (d1>d3):\n",
    "        istriangle(d1, d2, d3)\n",
    "    else:\n",
    "        istriangle(d3, d1, d2)\n",
    "elif (d2>d3):\n",
    "    istriangle(d2, d1, d3)\n",
    "else:\n",
    "    istriangle(d3, d1, d2)"
   ]
  },
  {
   "cell_type": "code",
   "execution_count": 1,
   "id": "f226b086",
   "metadata": {},
   "outputs": [
    {
     "name": "stdout",
     "output_type": "stream",
     "text": [
      "Enter x coordinate of 1st point: 1\n",
      "Enter y coordinate of 1st point: 1\n",
      "Enter x coordinate of 2nd point: 2\n",
      "Enter y coordinate of 2nd point: 2\n",
      "Enter x coordinate of 3rd point: 3\n",
      "Enter y coordinate of 3rd point: 3\n",
      "\n",
      "Slope of line connecting points (1.0, 1.0) and (2.0, 2.0) is 1.0\n",
      "\n",
      "Slope of line connecting points (2.0, 2.0) and (3.0, 3.0) is 1.0\n",
      "\n",
      "Not a Triangle\n",
      "\n",
      "Slope of line connecting points (3.0, 3.0) and (1.0, 1.0) is 1.0\n"
     ]
    }
   ],
   "source": [
    "'''write a code that checks whether the given coordinates form a triangle or not'''\n",
    "\n",
    "# using slope of line connecting points\n",
    "\n",
    "import math\n",
    "\n",
    "def slope(xi, yi, xj, yj):\n",
    "    if (xi == xj):\n",
    "        return (math.inf)    # infinity because of 0 denominator\n",
    "    else:\n",
    "        return ((yj-yi) / (xj-xi))\n",
    "\n",
    "x1= float(input('Enter x coordinate of 1st point: '))\n",
    "y1= float(input('Enter y coordinate of 1st point: '))\n",
    "x2= float(input('Enter x coordinate of 2nd point: '))\n",
    "y2= float(input('Enter y coordinate of 2nd point: '))\n",
    "x3= float(input('Enter x coordinate of 3rd point: '))\n",
    "y3= float(input('Enter y coordinate of 3rd point: '))\n",
    "s1= slope(x1, y1, x2, y2)\n",
    "print(f'\\nSlope of line connecting points ({x1}, {y1}) and ({x2}, {y2}) is {s1}')\n",
    "s2= slope(x2, y2, x3, y3)\n",
    "print(f'\\nSlope of line connecting points ({x2}, {y2}) and ({x3}, {y3}) is {s2}')\n",
    "\n",
    "if (s1 != s2):\n",
    "    print('\\nTriangle')\n",
    "else:\n",
    "    print('\\nNot a Triangle')\n",
    "    \n",
    "# s3 is not required\n",
    "s3= slope(x3, y3, x1, y1)\n",
    "print(f'\\nSlope of line connecting points ({x3}, {y3}) and ({x1}, {y1}) is {s3}')"
   ]
  },
  {
   "cell_type": "markdown",
   "id": "7004493b",
   "metadata": {},
   "source": [
    "Recursion: f(n)=[f(n-1)].n\n",
    "\n",
    "sum(n)=sum(n-1)+n\n",
    "\n",
    "fact(n)=[fact(n-1)].n"
   ]
  },
  {
   "cell_type": "code",
   "execution_count": 6,
   "id": "11258ea1",
   "metadata": {},
   "outputs": [
    {
     "name": "stdout",
     "output_type": "stream",
     "text": [
      "36\n",
      "1331.0\n",
      "24\n"
     ]
    }
   ],
   "source": [
    "# recursion\n",
    "\n",
    "def sum(n):\n",
    "    if (n==1):\n",
    "        return 1\n",
    "    else:\n",
    "        return n+sum(n-1)\n",
    "# compound interest of 10%\n",
    "def comp(p,n):\n",
    "    if (n==1):\n",
    "        return p*1.1\n",
    "    else:\n",
    "        return (comp(p, n-1))*1.1\n",
    "    \n",
    "def fact(n):\n",
    "    if (n==1):\n",
    "        return 1\n",
    "    else:\n",
    "        return (fact(n-1))*n\n",
    "\n",
    "print(sum(8))\n",
    "print(comp(1000, 3))\n",
    "print(fact(4))"
   ]
  },
  {
   "cell_type": "code",
   "execution_count": 3,
   "id": "a397b6d7",
   "metadata": {},
   "outputs": [
    {
     "name": "stdout",
     "output_type": "stream",
     "text": [
      "1\n"
     ]
    }
   ],
   "source": [
    "# finding 0 in a list\n",
    "# not an efficient code\n",
    "def check0(l):\n",
    "    if (len(l)==0):\n",
    "        return 0\n",
    "    if (l[0]==0):\n",
    "        return 1\n",
    "    else:\n",
    "        return check0(l[1:len(l)])\n",
    "\n",
    "print(check0([1,2,3,4,5,0,9,8,7,6]))"
   ]
  },
  {
   "cell_type": "code",
   "execution_count": 4,
   "id": "7957e618",
   "metadata": {},
   "outputs": [
    {
     "name": "stdout",
     "output_type": "stream",
     "text": [
      "[1, 2, 3, 5, 6, 59]\n"
     ]
    }
   ],
   "source": [
    "# sorting recursively\n",
    "def mini(l):\n",
    "    mini=l[0]\n",
    "    for x in l:\n",
    "        if (x<mini):\n",
    "            mini=x\n",
    "    return mini\n",
    "\n",
    "def sort(l):\n",
    "    if (l==[]) or (len(l)==1):\n",
    "        return l\n",
    "    # if list is empty there is nothing to sort\n",
    "    m=mini(l)\n",
    "    l.remove(m)\n",
    "    return [m]+sort(l)\n",
    "\n",
    "l=[5,6,59,1,2,3]\n",
    "print(sort(l))"
   ]
  },
  {
   "cell_type": "markdown",
   "id": "c0be3fc9",
   "metadata": {},
   "source": [
    "types of function arguments: positional arguments, keyword arguments and default arguments\n",
    "\n",
    "scope of variables: global and local"
   ]
  },
  {
   "cell_type": "code",
   "execution_count": 8,
   "id": "a78bbebc",
   "metadata": {},
   "outputs": [
    {
     "name": "stdout",
     "output_type": "stream",
     "text": [
      "value of x before func call 5\n",
      "value of x in func 10\n",
      "value of x in func1 30\n",
      "value of x after func call 30\n"
     ]
    }
   ],
   "source": [
    "# in case of integer, argument is \"call by value\"\n",
    "# in case of list, argument is \"call by reference\"\n",
    "\n",
    "def myfunction():\n",
    "    global x\n",
    "    x=x*2\n",
    "    print('value of x in func', x)\n",
    "    \n",
    "def myfunction1():\n",
    "    global x\n",
    "    x=x*3\n",
    "    print('value of x in func1', x)\n",
    "    \n",
    "x=5\n",
    "print('value of x before func call', x)\n",
    "myfunction()\n",
    "myfunction1()\n",
    "print('value of x after func call', x)"
   ]
  },
  {
   "cell_type": "markdown",
   "id": "bab388db",
   "metadata": {},
   "source": [
    "types of func:\n",
    "\n",
    "inbuilt func: print(), input(), len()\n",
    "\n",
    "library func: log(), sqrt(), random(), randrange(), calender(), month()\n",
    "\n",
    "string methods (func): upper(), lower(), strip(), count(), index(), replace()\n",
    "\n",
    "user defined func: defined by users in a new fuction"
   ]
  },
  {
   "cell_type": "code",
   "execution_count": 10,
   "id": "a0a77a6c",
   "metadata": {},
   "outputs": [
    {
     "name": "stdout",
     "output_type": "stream",
     "text": [
      "56\n",
      "64\n",
      "120\n"
     ]
    }
   ],
   "source": [
    "import sys\n",
    "l=[]\n",
    "l1=[0]\n",
    "l2=[0,1,2,5]\n",
    "print(sys.getsizeof(l))\n",
    "print(sys.getsizeof(l1))\n",
    "print(sys.getsizeof(l2))"
   ]
  },
  {
   "cell_type": "code",
   "execution_count": 11,
   "id": "dd4fb4f2",
   "metadata": {},
   "outputs": [
    {
     "name": "stdout",
     "output_type": "stream",
     "text": [
      "8408\n",
      "856\n"
     ]
    }
   ],
   "source": [
    "x=set(range(100))\n",
    "y=list(range(100))\n",
    "print(sys.getsizeof(x))\n",
    "print(sys.getsizeof(y))"
   ]
  },
  {
   "cell_type": "code",
   "execution_count": 13,
   "id": "e6d26ad3",
   "metadata": {},
   "outputs": [
    {
     "name": "stdout",
     "output_type": "stream",
     "text": [
      "0\n",
      "1\n",
      "2\n",
      "3\n",
      "4\n",
      "1\n",
      "2\n",
      "3\n",
      "5\n",
      "79\n",
      "1\n",
      "2\n",
      "3\n",
      "5\n",
      "79\n"
     ]
    }
   ],
   "source": [
    "l=[1,2,3,5,79]\n",
    "\n",
    "for i in range(len(l)):\n",
    "    print(i)\n",
    "    \n",
    "for x in l:\n",
    "    print(x)\n",
    "    \n",
    "for i in range(len(l)):\n",
    "    print(l[i])"
   ]
  },
  {
   "cell_type": "markdown",
   "id": "f3e77144",
   "metadata": {},
   "source": [
    "list methods= append, copy, extend, insert, remove, sort, clear, count, index, pop and reverse\n",
    "\n",
    "tuple methods= index and count\n",
    "\n",
    "string methods= formatter, template, ascii_letters, ascii_lowercase, ascii_uppercase, capwords, digits, hexdigits, octdigits, printable, punctuation and whitespace"
   ]
  },
  {
   "cell_type": "code",
   "execution_count": 16,
   "id": "af8c5d6a",
   "metadata": {},
   "outputs": [],
   "source": [
    "import string"
   ]
  },
  {
   "cell_type": "code",
   "execution_count": 17,
   "id": "ae5b9d44",
   "metadata": {},
   "outputs": [
    {
     "data": {
      "text/plain": [
       "{'A',\n",
       " 'B',\n",
       " 'C',\n",
       " 'D',\n",
       " 'E',\n",
       " 'F',\n",
       " 'G',\n",
       " 'H',\n",
       " 'I',\n",
       " 'J',\n",
       " 'K',\n",
       " 'L',\n",
       " 'M',\n",
       " 'N',\n",
       " 'O',\n",
       " 'P',\n",
       " 'Q',\n",
       " 'R',\n",
       " 'S',\n",
       " 'T',\n",
       " 'U',\n",
       " 'V',\n",
       " 'W',\n",
       " 'X',\n",
       " 'Y',\n",
       " 'Z',\n",
       " 'a',\n",
       " 'b',\n",
       " 'c',\n",
       " 'd',\n",
       " 'e',\n",
       " 'f',\n",
       " 'g',\n",
       " 'h',\n",
       " 'i',\n",
       " 'j',\n",
       " 'k',\n",
       " 'l',\n",
       " 'm',\n",
       " 'n',\n",
       " 'o',\n",
       " 'p',\n",
       " 'q',\n",
       " 'r',\n",
       " 's',\n",
       " 't',\n",
       " 'u',\n",
       " 'v',\n",
       " 'w',\n",
       " 'x',\n",
       " 'y',\n",
       " 'z'}"
      ]
     },
     "execution_count": 17,
     "metadata": {},
     "output_type": "execute_result"
    }
   ],
   "source": [
    "s=string.ascii_letters\n",
    "set(s)"
   ]
  },
  {
   "cell_type": "code",
   "execution_count": 18,
   "id": "fef4af16",
   "metadata": {},
   "outputs": [
    {
     "data": {
      "text/plain": [
       "('a',\n",
       " 'b',\n",
       " 'c',\n",
       " 'd',\n",
       " 'e',\n",
       " 'f',\n",
       " 'g',\n",
       " 'h',\n",
       " 'i',\n",
       " 'j',\n",
       " 'k',\n",
       " 'l',\n",
       " 'm',\n",
       " 'n',\n",
       " 'o',\n",
       " 'p',\n",
       " 'q',\n",
       " 'r',\n",
       " 's',\n",
       " 't',\n",
       " 'u',\n",
       " 'v',\n",
       " 'w',\n",
       " 'x',\n",
       " 'y',\n",
       " 'z',\n",
       " 'A',\n",
       " 'B',\n",
       " 'C',\n",
       " 'D',\n",
       " 'E',\n",
       " 'F',\n",
       " 'G',\n",
       " 'H',\n",
       " 'I',\n",
       " 'J',\n",
       " 'K',\n",
       " 'L',\n",
       " 'M',\n",
       " 'N',\n",
       " 'O',\n",
       " 'P',\n",
       " 'Q',\n",
       " 'R',\n",
       " 'S',\n",
       " 'T',\n",
       " 'U',\n",
       " 'V',\n",
       " 'W',\n",
       " 'X',\n",
       " 'Y',\n",
       " 'Z')"
      ]
     },
     "execution_count": 18,
     "metadata": {},
     "output_type": "execute_result"
    }
   ],
   "source": [
    "tuple(s)"
   ]
  },
  {
   "cell_type": "code",
   "execution_count": 20,
   "id": "cbf65227",
   "metadata": {},
   "outputs": [
    {
     "data": {
      "text/plain": [
       "['a',\n",
       " 'b',\n",
       " 'c',\n",
       " 'd',\n",
       " 'e',\n",
       " 'f',\n",
       " 'g',\n",
       " 'h',\n",
       " 'i',\n",
       " 'j',\n",
       " 'k',\n",
       " 'l',\n",
       " 'm',\n",
       " 'n',\n",
       " 'o',\n",
       " 'p',\n",
       " 'q',\n",
       " 'r',\n",
       " 's',\n",
       " 't',\n",
       " 'u',\n",
       " 'v',\n",
       " 'w',\n",
       " 'x',\n",
       " 'y',\n",
       " 'z',\n",
       " 'A',\n",
       " 'B',\n",
       " 'C',\n",
       " 'D',\n",
       " 'E',\n",
       " 'F',\n",
       " 'G',\n",
       " 'H',\n",
       " 'I',\n",
       " 'J',\n",
       " 'K',\n",
       " 'L',\n",
       " 'M',\n",
       " 'N',\n",
       " 'O',\n",
       " 'P',\n",
       " 'Q',\n",
       " 'R',\n",
       " 'S',\n",
       " 'T',\n",
       " 'U',\n",
       " 'V',\n",
       " 'W',\n",
       " 'X',\n",
       " 'Y',\n",
       " 'Z']"
      ]
     },
     "execution_count": 20,
     "metadata": {},
     "output_type": "execute_result"
    }
   ],
   "source": [
    "list(tuple(s))"
   ]
  },
  {
   "cell_type": "code",
   "execution_count": 23,
   "id": "e4806adb",
   "metadata": {},
   "outputs": [],
   "source": [
    "x='vhjftyujghvt%#$^%&^*&(*!#@!$)yr657768iuih'\n",
    "l=list(x)\n",
    "\n",
    "r=[]\n",
    "for p in l:\n",
    "    if p in s:\n",
    "        r.append(p)"
   ]
  },
  {
   "cell_type": "code",
   "execution_count": 24,
   "id": "2b2db21b",
   "metadata": {},
   "outputs": [
    {
     "name": "stdout",
     "output_type": "stream",
     "text": [
      "['v', 'h', 'j', 'f', 't', 'y', 'u', 'j', 'g', 'h', 'v', 't', 'y', 'r', 'i', 'u', 'i', 'h']\n"
     ]
    }
   ],
   "source": [
    "print(r)"
   ]
  },
  {
   "cell_type": "code",
   "execution_count": 25,
   "id": "06b5d4d5",
   "metadata": {},
   "outputs": [
    {
     "data": {
      "text/plain": [
       "368"
      ]
     },
     "execution_count": 25,
     "metadata": {},
     "output_type": "execute_result"
    }
   ],
   "source": [
    "l.__sizeof__()"
   ]
  },
  {
   "cell_type": "code",
   "execution_count": 26,
   "id": "1d373978",
   "metadata": {},
   "outputs": [
    {
     "name": "stdout",
     "output_type": "stream",
     "text": [
      "[0, 0, 0, 0, 0, 0, 0, 0]\n"
     ]
    }
   ],
   "source": [
    "l=[0]*8\n",
    "print(l)"
   ]
  },
  {
   "cell_type": "code",
   "execution_count": 28,
   "id": "1e7fb3e0",
   "metadata": {},
   "outputs": [
    {
     "name": "stdout",
     "output_type": "stream",
     "text": [
      "[1, 2, 3] [100, 2, 3] [1, 200, 3] [1, 2, 300]\n",
      "False\n",
      "False\n",
      "False\n",
      "True\n"
     ]
    }
   ],
   "source": [
    "# for creating a copy of list\n",
    "l1=[1,2,3]\n",
    "l2=list(l1)\n",
    "l3=l1[:]\n",
    "l4=l1.copy()\n",
    "\n",
    "l2[0]=100\n",
    "l3[1]=200\n",
    "l4[2]=300\n",
    "l5=l1\n",
    "print(l1,l2,l3,l4)\n",
    "print(l1 is l2)\n",
    "print(l1 is l3)\n",
    "print(l1 is l4)\n",
    "print(l1 is l5)"
   ]
  },
  {
   "cell_type": "code",
   "execution_count": 31,
   "id": "1a8aa49e",
   "metadata": {},
   "outputs": [
    {
     "name": "stdout",
     "output_type": "stream",
     "text": [
      "1 2 3\n"
     ]
    }
   ],
   "source": [
    "# packing of tuple\n",
    "t= 1,2,3\n",
    "# unpacking of tuple\n",
    "x,y,z=t\n",
    "print(x,y,z)\n",
    "# types of tuple: hashable and non-hashable"
   ]
  },
  {
   "cell_type": "code",
   "execution_count": 30,
   "id": "71a8c82d",
   "metadata": {},
   "outputs": [
    {
     "name": "stdout",
     "output_type": "stream",
     "text": [
      "10 <class 'int'>\n",
      "(10,) <class 'tuple'>\n"
     ]
    }
   ],
   "source": [
    "t=(10)\n",
    "print(t, type(t))\n",
    "t=(10,)\n",
    "print(t, type(t))"
   ]
  },
  {
   "cell_type": "markdown",
   "id": "f1e05a35",
   "metadata": {},
   "source": [
    "dictionary methods: keys, values and items\n",
    "\n",
    "set methods: issubset, issuperset, union, intersection and difference"
   ]
  },
  {
   "cell_type": "code",
   "execution_count": 2,
   "id": "18634aab",
   "metadata": {},
   "outputs": [
    {
     "name": "stdout",
     "output_type": "stream",
     "text": [
      "0\n"
     ]
    }
   ],
   "source": [
    "# binary search\n",
    "# check if an element is present in a list or not?\n",
    "\n",
    "def obvious_search(l,k):\n",
    "    for x in l:\n",
    "        if x==k:\n",
    "            return 1\n",
    "    return 0\n",
    "\n",
    "l=list(range(100))\n",
    "print(obvious_search(l,150))"
   ]
  },
  {
   "cell_type": "code",
   "execution_count": 3,
   "id": "7f8c7363",
   "metadata": {},
   "outputs": [
    {
     "name": "stdout",
     "output_type": "stream",
     "text": [
      "hello\n",
      "harshita\n"
     ]
    }
   ],
   "source": [
    "print('hello');print('harshita')"
   ]
  },
  {
   "cell_type": "code",
   "execution_count": 5,
   "id": "e2d84056",
   "metadata": {},
   "outputs": [
    {
     "data": {
      "text/plain": [
       "1702795360.5406291"
      ]
     },
     "execution_count": 5,
     "metadata": {},
     "output_type": "execute_result"
    }
   ],
   "source": [
    "import time\n",
    "time.time()"
   ]
  },
  {
   "cell_type": "markdown",
   "id": "4c063f30",
   "metadata": {},
   "source": [
    "midpoint of list = (begin+end)//2"
   ]
  },
  {
   "cell_type": "code",
   "execution_count": 8,
   "id": "aa9bc911",
   "metadata": {},
   "outputs": [
    {
     "name": "stdout",
     "output_type": "stream",
     "text": [
      "1\n",
      "0.0009059906005859375\n"
     ]
    }
   ],
   "source": [
    "a=time.time();print(obvious_search(l,99));b=time.time();print(b-a)"
   ]
  },
  {
   "cell_type": "code",
   "execution_count": 13,
   "id": "80cca9f6",
   "metadata": {},
   "outputs": [
    {
     "name": "stdout",
     "output_type": "stream",
     "text": [
      "1\n"
     ]
    }
   ],
   "source": [
    "# efficient alternate of obvious search\n",
    "def binary_search(l,k):\n",
    "    begin=0\n",
    "    end=len(l)-1\n",
    "    while (end-begin>1):\n",
    "        mid=(begin+end)//2\n",
    "        if (l[mid]==k):\n",
    "            return 1\n",
    "        if (l[mid]>k):\n",
    "            end=mid-1\n",
    "        if (l[mid]<k):\n",
    "            begin=mid+1\n",
    "    if (l[begin]==k) or (l[end]==k):\n",
    "        return 1\n",
    "    else:\n",
    "        return 0\n",
    "l=list(range(100))\n",
    "print(binary_search(l,60))"
   ]
  },
  {
   "cell_type": "code",
   "execution_count": 16,
   "id": "7f377d2c",
   "metadata": {},
   "outputs": [
    {
     "name": "stdout",
     "output_type": "stream",
     "text": [
      "0\n",
      "0.0\n"
     ]
    }
   ],
   "source": [
    "a=time.time();print(binary_search(l,150));b=time.time();print(b-a)"
   ]
  },
  {
   "cell_type": "code",
   "execution_count": 19,
   "id": "7b9e9c9f",
   "metadata": {},
   "outputs": [
    {
     "name": "stdout",
     "output_type": "stream",
     "text": [
      "0\n"
     ]
    }
   ],
   "source": [
    "# binary search recursive way\n",
    "def rbinarysearch(l,k,begin,end):\n",
    "    if(begin==end):\n",
    "        if (l[begin]==k):\n",
    "            return 1\n",
    "        else:\n",
    "            return 0\n",
    "    if (end-begin ==1):\n",
    "        if (l[begin]==k) or (l[end]==k):\n",
    "            return 1\n",
    "        else:\n",
    "            return 0\n",
    "    if (end-begin >1):\n",
    "        mid=(begin+end)//2\n",
    "        if (l[mid]>k):\n",
    "            end=mid-1\n",
    "        if (l[mid]<k):\n",
    "            begin=mid+1\n",
    "        if (l[mid]==k):\n",
    "            return 1\n",
    "    if (end-begin <0):\n",
    "        return 0\n",
    "    return rbinarysearch(l,k,begin,end)\n",
    "\n",
    "print(rbinarysearch([0,1,2,3,4,5,6,87,45,32,11],8,0,11))"
   ]
  },
  {
   "cell_type": "code",
   "execution_count": null,
   "id": "d874a23b",
   "metadata": {},
   "outputs": [],
   "source": []
  }
 ],
 "metadata": {
  "kernelspec": {
   "display_name": "Python 3 (ipykernel)",
   "language": "python",
   "name": "python3"
  },
  "language_info": {
   "codemirror_mode": {
    "name": "ipython",
    "version": 3
   },
   "file_extension": ".py",
   "mimetype": "text/x-python",
   "name": "python",
   "nbconvert_exporter": "python",
   "pygments_lexer": "ipython3",
   "version": "3.9.13"
  }
 },
 "nbformat": 4,
 "nbformat_minor": 5
}
