{
 "cells": [
  {
   "cell_type": "code",
   "execution_count": 2,
   "id": "7808e171",
   "metadata": {},
   "outputs": [],
   "source": [
    "import numpy as np # linear algebra"
   ]
  },
  {
   "cell_type": "markdown",
   "id": "8da4b53c",
   "metadata": {},
   "source": [
    "# Solving Linear System of Equation"
   ]
  },
  {
   "cell_type": "markdown",
   "id": "159c83d7",
   "metadata": {},
   "source": [
    "Let's consider a business scenario where a company is managing its inventory of products. The company sells three types of products: A, B, and C. They receive weekly shipments of these products from three different suppliers: Supplier X, Supplier Y, and Supplier Z. The goal is to keep track of the inventory levels and manage the orders from different suppliers to maintain optimal stock levels and minimize costs.\n",
    "\n",
    "**Weekly shipments from each supplier:**\n",
    "\n",
    "Supplier X: 20 units of Product A, 15 units of Product B, 10 units of Product C\n",
    "\n",
    "Supplier Y: 10 units of Product A, 15 units of Product B, 25 units of Product C\n",
    "\n",
    "Supplier Z: 25 units of Product A, 30 units of Product B, 20 units of Product C\n",
    "\n",
    "**Weekly demand for each product:**\n",
    "\n",
    "Product A: 35 units\n",
    "\n",
    "Product B: 20 units\n",
    "\n",
    "Product C: 15 units\n",
    "\n",
    "**Objective:**\n",
    "\n",
    "To find out how much inventory of each product should be ordered from each supplier to meet the weekly demand and minimize the total cost of orders."
   ]
  },
  {
   "cell_type": "code",
   "execution_count": 69,
   "id": "fd071dc3",
   "metadata": {},
   "outputs": [
    {
     "name": "stdout",
     "output_type": "stream",
     "text": [
      "Quantities ordered from each supplier:\n",
      "Supplier X: 186 units\n",
      "Supplier Y: 129 units\n",
      "Supplier Z: 171 units\n"
     ]
    }
   ],
   "source": [
    "# Given data\n",
    "A = np.array([[10, 15, 10], [15, 5, 15], [35, 10, 10]])\n",
    "demand = np.array([5500, 6000, 9500])\n",
    "\n",
    "# Solving the system of linear equations\n",
    "quantities_ordered = np.linalg.solve(A, demand)\n",
    "\n",
    "# Round off the quantities to whole numbers (since you can't order a fraction of a product)\n",
    "quantities_ordered = np.round(quantities_ordered).astype(int)\n",
    "\n",
    "print(\"Quantities ordered from each supplier:\")\n",
    "print(f\"Supplier X: {quantities_ordered[0]} units\")\n",
    "print(f\"Supplier Y: {quantities_ordered[1]} units\")\n",
    "print(f\"Supplier Z: {quantities_ordered[2]} units\")"
   ]
  },
  {
   "cell_type": "markdown",
   "id": "ef9914df",
   "metadata": {},
   "source": [
    "Imagine you own a bakery that produces two types of products: Cakes and Cookies. You source the ingredients from two different suppliers: Supplier A and Supplier B. Each supplier provides you with details about the cost of ingredients required to produce one unit of Cakes and one unit of Cookies.\n",
    "\n",
    "Given the data from Supplier A and Supplier B, you want to determine the optimal pricing strategy for Cakes and Cookies. The goal is to maximize the total revenue while considering the cost of ingredients from each supplier.\n",
    "\n",
    "**Suppose the following information is available:**\n",
    "\n",
    "Supplier A provides ingredients for Cakes at 100 per unit and ingredients for Cookies at 30 per unit.\n",
    "\n",
    "Supplier B provides ingredients for Cakes at 10 per unit and ingredients for Cookies at 80 per unit.\n",
    "\n",
    "The bakery has a weekly budget constraint, where the total cost of ingredients from Supplier A should not exceed 6000, and the total cost of ingredients from Supplier B should not exceed 4000."
   ]
  },
  {
   "cell_type": "code",
   "execution_count": 70,
   "id": "1e2e25d2",
   "metadata": {},
   "outputs": [
    {
     "name": "stdout",
     "output_type": "stream",
     "text": [
      "Unit price of Cakes: $52.17391304347826\n",
      "Unit price of Cookies: $43.47826086956522\n"
     ]
    }
   ],
   "source": [
    "# Coefficients matrix\n",
    "coefficients = np.array([[90, 30], [10, 80]])\n",
    "\n",
    "# Constants matrix\n",
    "constants = np.array([6000, 4000])\n",
    "\n",
    "# Solve the linear system\n",
    "solution = np.linalg.solve(coefficients, constants)\n",
    "\n",
    "# Extract the individual solutions\n",
    "unit_price_A, unit_price_B = solution\n",
    "\n",
    "print(f\"Unit price of Cakes: ${unit_price_A}\")\n",
    "print(f\"Unit price of Cookies: ${unit_price_B}\")"
   ]
  },
  {
   "cell_type": "markdown",
   "id": "6f33285f",
   "metadata": {},
   "source": [
    "# Matrix/Vector Addition"
   ]
  },
  {
   "cell_type": "markdown",
   "id": "9bc1bfa0",
   "metadata": {},
   "source": [
    "Imagine you are a regional manager responsible for overseeing multiple stores in your area. You have three stores under your management: Store 1, Store 2, and Store 3. Each store provides you with their weekly sales data for three products: Product A, Product B, and Product C.\n",
    "\n",
    "Given the weekly sales data from each store, you need to consolidate the information into a single sales report to get an overview of the overall performance in the region.\n",
    "\n",
    "The provided code performs matrix addition to consolidate the weekly sales data from all three stores into a single matrix called consolidated_sales.\n",
    "\n",
    "**Suppose the following is the sales data provided by each store for the week:**\n",
    "\n",
    "Store 1 sales: 50 units of Product A, 30 units of Product B, and 20 units of Product C.\n",
    "\n",
    "Store 2 sales: 40 units of Product A, 20 units of Product B, and 15 units of Product C.\n",
    "\n",
    "Store 3 sales: 60 units of Product A, 40 units of Product B, and 30 units of Product C."
   ]
  },
  {
   "cell_type": "code",
   "execution_count": 4,
   "id": "cca87b0d",
   "metadata": {},
   "outputs": [
    {
     "name": "stdout",
     "output_type": "stream",
     "text": [
      "Consolidated Weekly Sales Matrix:\n",
      "[[150  90  65]]\n"
     ]
    }
   ],
   "source": [
    "# Given data - Sales matrices for each store\n",
    "store_1_sales = np.array([[50, 30, 20]])\n",
    "store_2_sales = np.array([[40, 20, 15]])\n",
    "store_3_sales = np.array([[60, 40, 30]])\n",
    "\n",
    "# Perform matrix addition to consolidate weekly sales\n",
    "consolidated_sales = store_1_sales + store_2_sales + store_3_sales\n",
    "\n",
    "print(\"Consolidated Weekly Sales Matrix:\")\n",
    "print(consolidated_sales)"
   ]
  },
  {
   "cell_type": "markdown",
   "id": "720abee4",
   "metadata": {},
   "source": [
    "# Matrix/Vector Subtraction"
   ]
  },
  {
   "cell_type": "markdown",
   "id": "f1590f86",
   "metadata": {},
   "source": [
    "Imagine you are a sales manager responsible for overseeing the performance of two retail stores, Store A and Store B, located in different neighborhoods. As part of your regular analysis, you collect data on the weekly sales of three popular products: Product X, Product Y, and Product Z.\n",
    "\n",
    "Given the weekly sales data from both stores, you want to compare the sales performance of each store for the three products. To do this, you use matrix subtraction to find the differences in weekly sales between Store A and Store B.\n",
    "\n",
    "**Suppose you have the following sales data for the week:**\n",
    "\n",
    "Store A sales: 50 units of Product X, 30 units of Product Y, and 20 units of Product Z.\n",
    "\n",
    "Store B sales: 40 units of Product X, 20 units of Product Y, and 15 units of Product Z."
   ]
  },
  {
   "cell_type": "code",
   "execution_count": 52,
   "id": "fb8b8006",
   "metadata": {},
   "outputs": [
    {
     "name": "stdout",
     "output_type": "stream",
     "text": [
      "Matrix representing the difference in weekly sales between Store A and Store B:\n",
      "[[10 10  5]]\n"
     ]
    }
   ],
   "source": [
    "# Sales matrices for Store A and Store B\n",
    "store_A_sales = np.array([[50, 30, 20]])\n",
    "store_B_sales = np.array([[40, 20, 15]])\n",
    "\n",
    "# Perform matrix subtraction to find the difference in weekly sales\n",
    "sales_difference = store_A_sales - store_B_sales\n",
    "\n",
    "print(\"Matrix representing the difference in weekly sales between Store A and Store B:\")\n",
    "print(sales_difference)"
   ]
  },
  {
   "cell_type": "markdown",
   "id": "cfe3ee3e",
   "metadata": {},
   "source": [
    "# Scalar Addition/Subtraction to Matrix"
   ]
  },
  {
   "cell_type": "markdown",
   "id": "59d1edf7",
   "metadata": {},
   "source": [
    "Imagine you are a meteorologist working with a team to analyze temperature data from different weather stations across the world. The temperature data is recorded in both Celsius and Fahrenheit for accuracy and convenience.\n",
    "\n",
    "Your team receives temperature data for a particular day in two separate matrices. The first matrix holds the temperature readings in Celsius, and the second matrix holds the corresponding temperature readings in Fahrenheit. However, the temperature data in both matrices needs to be adjusted to account for a sudden change in weather conditions.\n",
    "\n",
    "To make the necessary temperature adjustments, you need to apply a scalar addition to both matrices. The scalar value represents the change in temperature, which can be positive or negative depending on whether it got warmer or cooler.\n",
    "\n",
    "Your team observes a sudden drop in temperature, and you decide to adjust the data by subtracting 5 degrees Celsius or 9 degrees Fahrenheit"
   ]
  },
  {
   "cell_type": "code",
   "execution_count": 73,
   "id": "89bffe4f",
   "metadata": {},
   "outputs": [
    {
     "name": "stdout",
     "output_type": "stream",
     "text": [
      "Original Temperature Data (Celsius):\n",
      "[[25 28 31]\n",
      " [22 27 30]\n",
      " [20 25 28]]\n",
      "\n",
      "Original Temperature Data (Fahrenheit):\n",
      "[[77.  82.4 87.8]\n",
      " [71.6 80.6 86. ]\n",
      " [68.  77.  82.4]]\n",
      "\n",
      "Adjusted Temperature Data (Celsius):\n",
      "[[20 23 26]\n",
      " [17 22 25]\n",
      " [15 20 23]]\n",
      "\n",
      "Adjusted Temperature Data (Fahrenheit):\n",
      "[[68.  73.4 78.8]\n",
      " [62.6 71.6 77. ]\n",
      " [59.  68.  73.4]]\n"
     ]
    }
   ],
   "source": [
    "# Temperature data matrix in Celsius for a particular day (3 cities, 3 weather stations)\n",
    "celsius_data = np.array([[25, 28, 31],\n",
    "                         [22, 27, 30],\n",
    "                         [20, 25, 28]])\n",
    "\n",
    "# Temperature data matrix in Fahrenheit for the same day (3 cities, 3 weather stations)\n",
    "fahrenheit_data = np.array([[77, 82.4, 87.8],\n",
    "                            [71.6, 80.6, 86],\n",
    "                            [68, 77, 82.4]])\n",
    "\n",
    "# Display the original temperature data\n",
    "print(\"Original Temperature Data (Celsius):\")\n",
    "print(celsius_data)\n",
    "\n",
    "print(\"\\nOriginal Temperature Data (Fahrenheit):\")\n",
    "print(fahrenheit_data)\n",
    "\n",
    "# Scalar value for temperature adjustment (change in temperature)\n",
    "celsius_adjustment = -5\n",
    "fahrenheit_adjustment = -9\n",
    "\n",
    "# Perform scalar addition for temperature adjustment\n",
    "adjusted_celsius_data = celsius_data + celsius_adjustment\n",
    "adjusted_fahrenheit_data = fahrenheit_data + fahrenheit_adjustment\n",
    "\n",
    "print(\"\\nAdjusted Temperature Data (Celsius):\")\n",
    "print(adjusted_celsius_data)\n",
    "\n",
    "print(\"\\nAdjusted Temperature Data (Fahrenheit):\")\n",
    "print(adjusted_fahrenheit_data)"
   ]
  },
  {
   "cell_type": "markdown",
   "id": "00c60a26",
   "metadata": {},
   "source": [
    "# Scalar-Matrix Multiplication"
   ]
  },
  {
   "cell_type": "markdown",
   "id": "b3602788",
   "metadata": {},
   "source": [
    "Imagine you are a pricing analyst working for an e-commerce company that sells various products. The company decides to offer a limited-time discount on all products to attract more customers and boost sales. As a pricing analyst, you need to apply a discount to the prices of all products and calculate the new prices.\n",
    "\n",
    "You have the original prices of the products stored in a 2x2 matrix, where each row represents a different product, and each column represents a different category of products (e.g., electronics, clothing). The matrix holds the original prices of each product in different categories.\n",
    "\n",
    "Your company decides to offer a 20% discount on all products. To calculate the new discounted prices, you can perform scalar addition with a scalar value of 0.8 (1 - 0.2, representing a 20% discount)."
   ]
  },
  {
   "cell_type": "code",
   "execution_count": 74,
   "id": "77a12119",
   "metadata": {},
   "outputs": [
    {
     "name": "stdout",
     "output_type": "stream",
     "text": [
      "Original Prices:\n",
      "[[ 50  30]\n",
      " [100  80]]\n",
      "\n",
      "Discounted Prices:\n",
      "[[40. 24.]\n",
      " [80. 64.]]\n"
     ]
    }
   ],
   "source": [
    "# Original Prices of Products (2 products, 2 categories)\n",
    "original_prices = np.array([[50, 30],\n",
    "                            [100, 80]])\n",
    "\n",
    "# Display the original prices\n",
    "print(\"Original Prices:\")\n",
    "print(original_prices)\n",
    "\n",
    "# Scalar value for discount (20% discount = 80% of original price)\n",
    "discount = 0.8\n",
    "\n",
    "# Perform scalar addition for discount\n",
    "discounted_prices = discount * original_prices\n",
    "\n",
    "print(\"\\nDiscounted Prices:\")\n",
    "print(discounted_prices)"
   ]
  },
  {
   "cell_type": "markdown",
   "id": "1b7404f9",
   "metadata": {},
   "source": [
    "# Matrix-Matrix/Vector Multiplication"
   ]
  },
  {
   "cell_type": "markdown",
   "id": "58cff018",
   "metadata": {},
   "source": [
    "Imagine you are a data analyst working for a retail company that sells multiple products. The company records the daily sales quantities of different products and the corresponding prices for each product. To calculate the daily revenue generated from the sales of multiple products, you need to perform matrix-matrix multiplication.\n",
    "\n",
    "The sales_quantities matrix holds the daily sales quantities of three products (Product A, Product B, and Product C) over three consecutive days. The product_prices matrix represents the prices of each product.\n",
    "\n",
    "Now, you want to calculate the daily revenue generated from the sales of each product over the three days."
   ]
  },
  {
   "cell_type": "code",
   "execution_count": 76,
   "id": "59c2a7e7",
   "metadata": {},
   "outputs": [
    {
     "name": "stdout",
     "output_type": "stream",
     "text": [
      "Matrix of Sales Quantities:\n",
      "[[50 40 30]\n",
      " [35 45 25]\n",
      " [20 30 15]]\n",
      "\n",
      "Matrix of Product Prices:\n",
      "[[10]\n",
      " [15]\n",
      " [12]]\n",
      "\n",
      "Daily Revenue:\n",
      "[[1460]\n",
      " [1325]\n",
      " [ 830]]\n"
     ]
    }
   ],
   "source": [
    "# Matrix of sales quantities (3 products, 5 days)\n",
    "sales_quantities = np.array([[50, 40, 30],\n",
    "                             [35, 45, 25],\n",
    "                             [20, 30, 15]])\n",
    "\n",
    "# Matrix of product prices (3 products, 1 column)\n",
    "product_prices = np.array([[10],\n",
    "                           [15],\n",
    "                           [12]])\n",
    "# Perform matrix-matrix multiplication to calculate revenue\n",
    "daily_revenue = np.dot(sales_quantities, product_prices)\n",
    "\n",
    "print(\"Matrix of Sales Quantities:\")\n",
    "print(sales_quantities)\n",
    "\n",
    "print(\"\\nMatrix of Product Prices:\")\n",
    "print(product_prices)\n",
    "\n",
    "print(\"\\nDaily Revenue:\")\n",
    "print(daily_revenue)"
   ]
  },
  {
   "cell_type": "markdown",
   "id": "d28ed213",
   "metadata": {},
   "source": [
    "# Matrix Transpose"
   ]
  },
  {
   "cell_type": "markdown",
   "id": "d495496a",
   "metadata": {},
   "source": [
    "Imagine you are a meteorologist working with a team to analyze temperature data from different cities. Your team collects temperature readings from various weather stations across four cities over the course of three days.\n",
    "\n",
    "Now, let's say you need to analyze the data and work with the temperature data for each day separately. You can use matrix transpose to transform the data, so each row represents a different day, and each column represents a different city."
   ]
  },
  {
   "cell_type": "code",
   "execution_count": 71,
   "id": "7e35142f",
   "metadata": {},
   "outputs": [
    {
     "name": "stdout",
     "output_type": "stream",
     "text": [
      "Original Temperature Data:\n",
      "[[25 28 31]\n",
      " [22 27 30]\n",
      " [20 25 28]\n",
      " [24 26 29]]\n",
      "\n",
      "Transposed Temperature Data:\n",
      "[[25 22 20 24]\n",
      " [28 27 25 26]\n",
      " [31 30 28 29]]\n"
     ]
    }
   ],
   "source": [
    "# Temperature data matrix (4 cities, 3 days)\n",
    "temperature_data = np.array([[25, 28, 31],\n",
    "                             [22, 27, 30],\n",
    "                             [20, 25, 28],\n",
    "                             [24, 26, 29]])\n",
    "\n",
    "# Display the original temperature data\n",
    "print(\"Original Temperature Data:\")\n",
    "print(temperature_data)\n",
    "\n",
    "# Perform matrix transpose to analyze temperature data by day\n",
    "temperature_data_transposed = np.transpose(temperature_data)\n",
    "\n",
    "# Display the transposed temperature data\n",
    "print(\"\\nTransposed Temperature Data:\")\n",
    "print(temperature_data_transposed)"
   ]
  },
  {
   "cell_type": "markdown",
   "id": "3687cb13",
   "metadata": {},
   "source": [
    "# Matrix Determinant"
   ]
  },
  {
   "cell_type": "markdown",
   "id": "87908c08",
   "metadata": {},
   "source": [
    "Imagine you are a construction engineer working on a project to build a bridge across a river. As part of the project, you need to analyze the stability of the bridge's support structure. To do this, you need to calculate the determinant of a matrix representing the forces acting on different segments of the support structure.\n",
    "\n",
    "You have identified three main segments of the bridge's support structure, and you need to calculate the determinant of the matrix representing the forces acting on these segments to ensure the stability of the bridge."
   ]
  },
  {
   "cell_type": "code",
   "execution_count": 9,
   "id": "5daf04b0",
   "metadata": {},
   "outputs": [
    {
     "name": "stdout",
     "output_type": "stream",
     "text": [
      "5800000.000000005\n",
      "The support structure is stable under the applied forces.\n"
     ]
    }
   ],
   "source": [
    "# Define the matrix of forces\n",
    "forces_matrix = np.array([[10, 20, 50],\n",
    "                          [600, 200, 400],\n",
    "                          [500, 300, 100]])\n",
    "\n",
    "# Calculate the determinant using np.linalg.det() function\n",
    "determinant = np.linalg.det(forces_matrix)\n",
    "\n",
    "print(determinant)\n",
    "\n",
    "# Check the stability of the support structure\n",
    "if determinant != 0:\n",
    "    print(\"The support structure is stable under the applied forces.\")\n",
    "else:\n",
    "    print(\"Warning: The support structure may not be stable under the applied forces. Consider adjustments or reinforcements.\")"
   ]
  },
  {
   "cell_type": "markdown",
   "id": "a6d36ec8",
   "metadata": {},
   "source": [
    "# Matrix Inverse"
   ]
  },
  {
   "cell_type": "markdown",
   "id": "0861b2aa",
   "metadata": {},
   "source": [
    "## Calculating Inverse"
   ]
  },
  {
   "cell_type": "code",
   "execution_count": 29,
   "id": "7cacda6c",
   "metadata": {},
   "outputs": [
    {
     "name": "stdout",
     "output_type": "stream",
     "text": [
      "Matrix B:\n",
      "[[100 310 240]\n",
      " [450 620 530]\n",
      " [780 960 850]]\n",
      "Inverse of B:\n",
      "[[-0.01847716  0.03360406 -0.01573604]\n",
      " [-0.03137056  0.10375635 -0.05583756]\n",
      " [ 0.05238579 -0.1480203   0.0786802 ]]\n"
     ]
    }
   ],
   "source": [
    "# Define a 3x3 square matrix B\n",
    "B = np.array([[100, 310, 240],\n",
    "              [450, 620, 530],\n",
    "              [780, 960, 850]])\n",
    "\n",
    "# Calculate the inverse of matrix B using np.linalg.inv() function\n",
    "B_inv = np.linalg.inv(B)\n",
    "\n",
    "print(\"Matrix B:\")\n",
    "print(B)\n",
    "\n",
    "print(\"Inverse of B:\")\n",
    "print(B_inv)"
   ]
  },
  {
   "cell_type": "markdown",
   "id": "931566a2",
   "metadata": {},
   "source": [
    "## Based on its Determinant"
   ]
  },
  {
   "cell_type": "code",
   "execution_count": 28,
   "id": "fae3e5e6",
   "metadata": {},
   "outputs": [
    {
     "name": "stdout",
     "output_type": "stream",
     "text": [
      "The matrix is invertible: True\n"
     ]
    }
   ],
   "source": [
    "def is_invertible_by_determinant(matrix):\n",
    "    # Calculate the determinant of the matrix\n",
    "    determinant = np.linalg.det(matrix)\n",
    "\n",
    "    # Check if the determinant is non-zero\n",
    "    return not np.isclose(determinant, 0)\n",
    "\n",
    "# Example usage:\n",
    "matrix = np.array([[1, 2], [3, 4]])\n",
    "\n",
    "invertible_by_determinant = is_invertible_by_determinant(matrix)\n",
    "print(\"The matrix is invertible:\", invertible_by_determinant)"
   ]
  },
  {
   "cell_type": "markdown",
   "id": "fd939acc",
   "metadata": {},
   "source": [
    "## Based on its Eigenvalues"
   ]
  },
  {
   "cell_type": "code",
   "execution_count": 22,
   "id": "d35f193f",
   "metadata": {},
   "outputs": [
    {
     "name": "stdout",
     "output_type": "stream",
     "text": [
      "The matrix is invertible: True\n"
     ]
    }
   ],
   "source": [
    "def is_invertible_by_eigenvalues(matrix):\n",
    "    # Calculate the eigenvalues of the matrix\n",
    "    eigenvalues, _ = np.linalg.eig(matrix)\n",
    "\n",
    "    # Check if all eigenvalues are non-zero\n",
    "    return not np.any(np.isclose(eigenvalues, 0))\n",
    "\n",
    "# Example usage:\n",
    "matrix = np.array([[2, 3], [1, 4]])\n",
    "\n",
    "invertible_by_eigenvalues = is_invertible_by_eigenvalues(matrix)\n",
    "print(\"The matrix is invertible:\", invertible_by_eigenvalues)"
   ]
  },
  {
   "cell_type": "markdown",
   "id": "d4ad4f39",
   "metadata": {},
   "source": [
    "## Based on its Rank"
   ]
  },
  {
   "cell_type": "code",
   "execution_count": 33,
   "id": "19c5ae8a",
   "metadata": {},
   "outputs": [
    {
     "name": "stdout",
     "output_type": "stream",
     "text": [
      "The matrix is invertible: True\n"
     ]
    }
   ],
   "source": [
    "def is_invertible_by_rank(matrix):\n",
    "    # Calculate the rank of the matrix\n",
    "    rank = np.linalg.matrix_rank(matrix)\n",
    "    num_rows, num_cols = matrix.shape\n",
    "\n",
    "    # If the rank is less than the number of rows or columns, the matrix is not invertible\n",
    "    return rank == num_rows and rank == num_cols\n",
    "\n",
    "# Example usage:\n",
    "matrix = np.array([[1, 3], [4, 2]])\n",
    "\n",
    "invertible_by_rank = is_invertible_by_rank(matrix)\n",
    "print(\"The matrix is invertible:\", invertible_by_rank)"
   ]
  },
  {
   "cell_type": "markdown",
   "id": "09592c2e",
   "metadata": {},
   "source": [
    "## Based on its Row/Column operations"
   ]
  },
  {
   "cell_type": "code",
   "execution_count": 32,
   "id": "ada838ec",
   "metadata": {},
   "outputs": [
    {
     "name": "stdout",
     "output_type": "stream",
     "text": [
      "The matrix is invertible: False\n"
     ]
    }
   ],
   "source": [
    "def is_invertible_by_row_column_ops(matrix):\n",
    "    # Convert the matrix to its reduced row-echelon form (RREF)\n",
    "    rref, _ = np.linalg.qr(matrix)\n",
    "\n",
    "    # Check if the RREF is the identity matrix\n",
    "    identity_matrix = np.eye(matrix.shape[0])\n",
    "    return np.allclose(rref, identity_matrix)\n",
    "\n",
    "# Example usage:\n",
    "matrix = np.array([[1, 2], [3, 4]])\n",
    "\n",
    "invertible_by_row_column_ops = is_invertible_by_row_column_ops(matrix)\n",
    "print(\"The matrix is invertible:\", invertible_by_row_column_ops)"
   ]
  },
  {
   "cell_type": "markdown",
   "id": "9aa493be",
   "metadata": {},
   "source": [
    "# Linearly Independent"
   ]
  },
  {
   "cell_type": "markdown",
   "id": "5c5402d8",
   "metadata": {},
   "source": [
    "## Based on rank"
   ]
  },
  {
   "cell_type": "code",
   "execution_count": 14,
   "id": "2f06bf0d",
   "metadata": {},
   "outputs": [
    {
     "name": "stdout",
     "output_type": "stream",
     "text": [
      "Forces are linearly independent: True\n"
     ]
    }
   ],
   "source": [
    "def are_vectors_linearly_independent(vectors):\n",
    "    # Create a matrix from the vectors\n",
    "    matrix = np.array(vectors)\n",
    "    \n",
    "    # Calculate the rank of the matrix\n",
    "    rank = np.linalg.matrix_rank(matrix)\n",
    "    \n",
    "    # If rank equals the number of vectors, they are linearly independent\n",
    "    return rank == len(vectors)\n",
    "\n",
    "# Example: Forces on the Bridge\n",
    "vectors = [\n",
    "    [1000, 0, 0],   # Horizontal Force in Newtons\n",
    "    [0, 500, 0],    # Vertical Force in Newtons\n",
    "    [0, 0, 2000]    # Bending Moment in Newton-meters\n",
    "]\n",
    "\n",
    "result = are_vectors_linearly_independent(vectors)\n",
    "print(\"Forces are linearly independent:\", result)"
   ]
  },
  {
   "cell_type": "markdown",
   "id": "8fcac153",
   "metadata": {},
   "source": [
    "## Based on Linear Combination and Trivial Solution"
   ]
  },
  {
   "cell_type": "code",
   "execution_count": 27,
   "id": "99e81547",
   "metadata": {},
   "outputs": [
    {
     "name": "stdout",
     "output_type": "stream",
     "text": [
      "The vectors are linearly independent: True\n"
     ]
    }
   ],
   "source": [
    "def are_linearly_independent(vectors):\n",
    "    # Convert the list of vectors into a NumPy array\n",
    "    vectors_array = np.array(vectors)\n",
    "    \n",
    "    # Check the shape of the array\n",
    "    num_vectors, vector_dim = vectors_array.shape\n",
    "    \n",
    "    # Ensure there are at least as many vectors as their dimensions\n",
    "    if num_vectors < vector_dim:\n",
    "        return False\n",
    "\n",
    "    # Solve the linear system using NumPy's linear algebra solver (np.linalg.solve)\n",
    "    try:\n",
    "        coefficients = np.linalg.solve(vectors_array, np.zeros(vector_dim))\n",
    "    except np.linalg.LinAlgError:\n",
    "        # If there's a LinAlgError, it means that the matrix is singular (linearly dependent)\n",
    "        return False\n",
    "\n",
    "    # Check if all coefficients are zero (trivial solution)\n",
    "    return np.allclose(coefficients, 0)\n",
    "\n",
    "# Example usage:\n",
    "v1 = np.array([3, 1, 2])\n",
    "v2 = np.array([6, 4, 5])\n",
    "v3 = np.array([9, 7, 8])\n",
    "\n",
    "vectors_set = [v1, v2, v3]\n",
    "result = are_linearly_independent(vectors_set)\n",
    "print(\"The vectors are linearly independent:\", result)"
   ]
  },
  {
   "cell_type": "markdown",
   "id": "f8449073",
   "metadata": {},
   "source": [
    "## Based on Determinant"
   ]
  },
  {
   "cell_type": "code",
   "execution_count": 26,
   "id": "f3802853",
   "metadata": {},
   "outputs": [
    {
     "name": "stdout",
     "output_type": "stream",
     "text": [
      "The vectors are linearly independent: False\n"
     ]
    }
   ],
   "source": [
    "def are_linearly_independent(vectors):\n",
    "    # Convert the list of vectors into a NumPy array\n",
    "    vectors_array = np.array(vectors)\n",
    "    \n",
    "    # Calculate the determinant of the matrix\n",
    "    determinant = np.linalg.det(vectors_array)\n",
    "\n",
    "    # Check if the determinant is non-zero\n",
    "    return not np.isclose(determinant, 0)\n",
    "\n",
    "# Example usage:\n",
    "v1 = np.array([1, 2, 3])\n",
    "v2 = np.array([4, 5, 6])\n",
    "v3 = np.array([7, 8, 9])\n",
    "\n",
    "vectors_set = [v1, v2, v3]\n",
    "result = are_linearly_independent(vectors_set)\n",
    "print(\"The vectors are linearly independent:\", result)"
   ]
  },
  {
   "cell_type": "markdown",
   "id": "2b6dfac9",
   "metadata": {},
   "source": [
    "## Based on Null Space"
   ]
  },
  {
   "cell_type": "code",
   "execution_count": 25,
   "id": "aec2f0ff",
   "metadata": {},
   "outputs": [
    {
     "name": "stdout",
     "output_type": "stream",
     "text": [
      "The vectors are linearly independent: True\n"
     ]
    }
   ],
   "source": [
    "def are_linearly_independent(vectors):\n",
    "    # Convert the list of vectors into a NumPy array\n",
    "    vectors_array = np.array(vectors)\n",
    "    \n",
    "    # Calculate the null space using NumPy's linear algebra solver (np.linalg.solve)\n",
    "    null_space = np.linalg.solve(vectors_array, np.zeros(vectors_array.shape[1]))\n",
    "\n",
    "    # Check if the null space contains only the zero vector\n",
    "    return np.allclose(null_space, 0)\n",
    "\n",
    "# Example usage:\n",
    "v1 = np.array([2, 3, 1])\n",
    "v2 = np.array([9, 7, 4])\n",
    "v3 = np.array([5, 6, 8])\n",
    "\n",
    "vectors_set = [v1, v2, v3]\n",
    "result = are_linearly_independent(vectors_set)\n",
    "print(\"The vectors are linearly independent:\", result)"
   ]
  },
  {
   "cell_type": "markdown",
   "id": "21c65832",
   "metadata": {},
   "source": [
    "## Based on Eigenvalues"
   ]
  },
  {
   "cell_type": "code",
   "execution_count": 24,
   "id": "55b047d1",
   "metadata": {},
   "outputs": [
    {
     "name": "stdout",
     "output_type": "stream",
     "text": [
      "The vectors are linearly independent: False\n"
     ]
    }
   ],
   "source": [
    "def are_linearly_independent(vectors):\n",
    "    # Convert the list of vectors into a NumPy array\n",
    "    vectors_array = np.array(vectors)\n",
    "    \n",
    "    # Compute the eigenvalues of the matrix\n",
    "    eigenvalues, _ = np.linalg.eig(vectors_array.T @ vectors_array)\n",
    "\n",
    "    # Check if all eigenvalues are non-zero\n",
    "    return np.all(np.abs(eigenvalues) > 1e-10)\n",
    "\n",
    "# Example usage:\n",
    "v1 = np.array([1, 2, 3])\n",
    "v2 = np.array([4, 5, 6])\n",
    "v3 = np.array([7, 8, 9])\n",
    "\n",
    "vectors_set = [v1, v2, v3]\n",
    "result = are_linearly_independent(vectors_set)\n",
    "print(\"The vectors are linearly independent:\", result)"
   ]
  },
  {
   "cell_type": "markdown",
   "id": "520da7df",
   "metadata": {},
   "source": [
    "## Based on Row/Column Operations"
   ]
  },
  {
   "cell_type": "code",
   "execution_count": 23,
   "id": "51f03367",
   "metadata": {},
   "outputs": [
    {
     "name": "stdout",
     "output_type": "stream",
     "text": [
      "The vectors are linearly independent: True\n"
     ]
    }
   ],
   "source": [
    "def are_linearly_independent(vectors):\n",
    "    # Convert the list of vectors into a NumPy array\n",
    "    vectors_array = np.array(vectors)\n",
    "\n",
    "    # Perform Gaussian elimination on the matrix\n",
    "    rref, _ = np.linalg.qr(vectors_array)\n",
    "\n",
    "    # Check if the echelon form has no rows of zeros\n",
    "    if not np.any(np.all(rref == 0, axis=1)):\n",
    "        return True\n",
    "\n",
    "    # Check if the reduced row-echelon form is the identity matrix\n",
    "    identity_matrix = np.eye(vectors_array.shape[1])\n",
    "    return np.allclose(rref, identity_matrix)\n",
    "\n",
    "# Example usage:\n",
    "v1 = np.array([6, 1, 7])\n",
    "v2 = np.array([4, 3, 8])\n",
    "v3 = np.array([5, 2, 9])\n",
    "\n",
    "vectors_set = [v1, v2, v3]\n",
    "result = are_linearly_independent(vectors_set)\n",
    "print(\"The vectors are linearly independent:\", result)"
   ]
  }
 ],
 "metadata": {
  "kernelspec": {
   "display_name": "Python 3 (ipykernel)",
   "language": "python",
   "name": "python3"
  },
  "language_info": {
   "codemirror_mode": {
    "name": "ipython",
    "version": 3
   },
   "file_extension": ".py",
   "mimetype": "text/x-python",
   "name": "python",
   "nbconvert_exporter": "python",
   "pygments_lexer": "ipython3",
   "version": "3.9.13"
  }
 },
 "nbformat": 4,
 "nbformat_minor": 5
}
